{
  "nbformat": 4,
  "nbformat_minor": 0,
  "metadata": {
    "colab": {
      "provenance": [],
      "authorship_tag": "ABX9TyNgm7b/BXk14EMSAzTXqsfF",
      "include_colab_link": true
    },
    "kernelspec": {
      "name": "python3",
      "display_name": "Python 3"
    },
    "language_info": {
      "name": "python"
    }
  },
  "cells": [
    {
      "cell_type": "markdown",
      "metadata": {
        "id": "view-in-github",
        "colab_type": "text"
      },
      "source": [
        "<a href=\"https://colab.research.google.com/github/themysterysolver/PYTHON_BASICS/blob/main/SCIPY/SCIPY.ipynb\" target=\"_parent\"><img src=\"https://colab.research.google.com/assets/colab-badge.svg\" alt=\"Open In Colab\"/></a>"
      ]
    },
    {
      "cell_type": "markdown",
      "source": [
        "## SciPy\n",
        "- SciPy is a scientific computation library that uses NumPy underneath.\n",
        "- SciPy stands for Scientific Python."
      ],
      "metadata": {
        "id": "pNkYUKcvxSpi"
      }
    },
    {
      "cell_type": "code",
      "execution_count": null,
      "metadata": {
        "id": "kb444b51DUWH",
        "colab": {
          "base_uri": "https://localhost:8080/"
        },
        "outputId": "182ff697-2b14-49e3-eb58-8d7b4951dc11"
      },
      "outputs": [
        {
          "output_type": "stream",
          "name": "stdout",
          "text": [
            "1.13.1\n"
          ]
        }
      ],
      "source": [
        "import scipy\n",
        "print(scipy.__version__)"
      ]
    },
    {
      "cell_type": "markdown",
      "source": [
        "## CONSTANTS\n",
        "- PI is an example of a scientific constant."
      ],
      "metadata": {
        "id": "PvrpYsaQx9hz"
      }
    },
    {
      "cell_type": "code",
      "source": [
        "from scipy import constants\n",
        "print(constants.pi)"
      ],
      "metadata": {
        "colab": {
          "base_uri": "https://localhost:8080/"
        },
        "id": "7isSVuebwybU",
        "outputId": "11d6377e-c51a-4ff5-d415-090b1a5f81ae"
      },
      "execution_count": null,
      "outputs": [
        {
          "output_type": "stream",
          "name": "stdout",
          "text": [
            "3.141592653589793\n"
          ]
        }
      ]
    },
    {
      "cell_type": "code",
      "source": [
        "print(dir(constants))"
      ],
      "metadata": {
        "id": "35pihfXDDZ9I",
        "colab": {
          "base_uri": "https://localhost:8080/"
        },
        "outputId": "f4094b25-38dd-42e5-f315-6bfb281587fd"
      },
      "execution_count": null,
      "outputs": [
        {
          "output_type": "stream",
          "name": "stdout",
          "text": [
            "['Avogadro', 'Boltzmann', 'Btu', 'Btu_IT', 'Btu_th', 'ConstantWarning', 'G', 'Julian_year', 'N_A', 'Planck', 'R', 'Rydberg', 'Stefan_Boltzmann', 'Wien', '__all__', '__builtins__', '__cached__', '__doc__', '__file__', '__loader__', '__name__', '__package__', '__path__', '__spec__', '_codata', '_constants', '_obsolete_constants', 'acre', 'alpha', 'angstrom', 'arcmin', 'arcminute', 'arcsec', 'arcsecond', 'astronomical_unit', 'atm', 'atmosphere', 'atomic_mass', 'atto', 'au', 'bar', 'barrel', 'bbl', 'blob', 'c', 'calorie', 'calorie_IT', 'calorie_th', 'carat', 'centi', 'codata', 'constants', 'convert_temperature', 'day', 'deci', 'degree', 'degree_Fahrenheit', 'deka', 'dyn', 'dyne', 'e', 'eV', 'electron_mass', 'electron_volt', 'elementary_charge', 'epsilon_0', 'erg', 'exa', 'exbi', 'femto', 'fermi', 'find', 'fine_structure', 'fluid_ounce', 'fluid_ounce_US', 'fluid_ounce_imp', 'foot', 'g', 'gallon', 'gallon_US', 'gallon_imp', 'gas_constant', 'gibi', 'giga', 'golden', 'golden_ratio', 'grain', 'gram', 'gravitational_constant', 'h', 'hbar', 'hectare', 'hecto', 'horsepower', 'hour', 'hp', 'inch', 'k', 'kgf', 'kibi', 'kilo', 'kilogram_force', 'kmh', 'knot', 'lambda2nu', 'lb', 'lbf', 'light_year', 'liter', 'litre', 'long_ton', 'm_e', 'm_n', 'm_p', 'm_u', 'mach', 'mebi', 'mega', 'metric_ton', 'micro', 'micron', 'mil', 'mile', 'milli', 'minute', 'mmHg', 'mph', 'mu_0', 'nano', 'nautical_mile', 'neutron_mass', 'nu2lambda', 'ounce', 'oz', 'parsec', 'pebi', 'peta', 'physical_constants', 'pi', 'pico', 'point', 'pound', 'pound_force', 'precision', 'proton_mass', 'psi', 'pt', 'quecto', 'quetta', 'ronna', 'ronto', 'short_ton', 'sigma', 'slinch', 'slug', 'speed_of_light', 'speed_of_sound', 'stone', 'survey_foot', 'survey_mile', 'tebi', 'tera', 'test', 'ton_TNT', 'torr', 'troy_ounce', 'troy_pound', 'u', 'unit', 'value', 'week', 'yard', 'year', 'yobi', 'yocto', 'yotta', 'zebi', 'zepto', 'zero_Celsius', 'zetta']\n"
          ]
        }
      ]
    },
    {
      "cell_type": "markdown",
      "source": [
        "Unit Categories\n",
        "The units are placed under these categories:\n",
        "\n",
        "1. Metric\n",
        "2. Binary\n",
        "3. Mass\n",
        "4. Angle\n",
        "5. Time\n",
        "6. Length\n",
        "7. Pressure\n",
        "8. Volume\n",
        "9. Speed\n",
        "10. Temperature\n",
        "11. Energy\n",
        "12. Power\n",
        "13. Force"
      ],
      "metadata": {
        "id": "P9xuYrgWybXk"
      }
    },
    {
      "cell_type": "code",
      "source": [
        "print(constants.centi,constants.kilo,constants.nano,constants.micro,constants.mega,constants.pico) # mass in m"
      ],
      "metadata": {
        "colab": {
          "base_uri": "https://localhost:8080/"
        },
        "id": "bb9euG6OyOx6",
        "outputId": "b80e620c-7ef3-4553-91da-0ca9abf91e2a"
      },
      "execution_count": null,
      "outputs": [
        {
          "output_type": "stream",
          "name": "stdout",
          "text": [
            "0.01 1000.0 1e-09 1e-06 1000000.0 1e-12\n"
          ]
        }
      ]
    },
    {
      "cell_type": "code",
      "source": [
        "print(constants.sec,constants.year) # time in s"
      ],
      "metadata": {
        "id": "aUSQavxPy9MJ"
      },
      "execution_count": null,
      "outputs": []
    },
    {
      "cell_type": "markdown",
      "source": [
        "## Optimizers in SciPy\n",
        "\n",
        "- Optimizers are a set of procedures defined in SciPy that either find the **minimum** value of a function, or the **root** of an equation.\n",
        "- **NumPy** is capable of finding roots for *polynomials and linear equations*.\n",
        "- Optimizing Functions:Essentially, all of the algorithms in Machine Learning are nothing more than a *complex equation that needs to be minimized with the help of given data*.\n",
        "- `optimize.root` function.\n",
        "- This function takes two required arguments:\n",
        "    - fun - a function representing an equation.\n",
        "    - x0 - an initial guess for the root.\n",
        "\n",
        "- The function returns an ***object*** with information regarding the solution.\n",
        "- The actual solution is given under `attribute x` of the returned object\n",
        "\n",
        "- it can not find roots for non linear equations, like this one:x + cos(x)\n",
        "  - Yes, non-linear equations can have solutions. A non-linear equation is one in which the relationship between the variables is not linear (i.e., it cannot be represented by a straight line). These equations can have various forms, such as quadratic, cubic, exponential, logarithmic, trigonometric, and more.\n",
        "  - Solutions of Non-linear Equations:\n",
        "      - Single Solution: Some non-linear equations may have only one solution. For example, a simple quadratic equation\n",
        "      - Multiple Solutions: Other non-linear equations may have multiple solutions.\n",
        "      - No Real Solution: Some non-linear equations may have no real solution, but they might have complex solutions.\n",
        "      - Infinite Solutions: Certain non-linear equations or systems can have infinitely many solutions, depending on their nature."
      ],
      "metadata": {
        "id": "sT66hqTP0F26"
      }
    },
    {
      "cell_type": "code",
      "source": [
        "from scipy.optimize import root\n",
        "from math import cos\n",
        "def eqn(x):\n",
        "  return x+cos(x)\n",
        "rt=root(eqn,0)\n",
        "print(rt.x)\n",
        "print(rt)"
      ],
      "metadata": {
        "id": "otKX77sp4ve5",
        "colab": {
          "base_uri": "https://localhost:8080/"
        },
        "outputId": "8d552360-3a00-4d3b-a973-d810a3768a98"
      },
      "execution_count": null,
      "outputs": [
        {
          "output_type": "stream",
          "name": "stdout",
          "text": [
            "[-0.73908513]\n",
            " message: The solution converged.\n",
            " success: True\n",
            "  status: 1\n",
            "     fun: [ 0.000e+00]\n",
            "       x: [-7.391e-01]\n",
            "  method: hybr\n",
            "    nfev: 9\n",
            "    fjac: [[-1.000e+00]]\n",
            "       r: [-1.674e+00]\n",
            "     qtf: [-2.668e-13]\n"
          ]
        },
        {
          "output_type": "stream",
          "name": "stderr",
          "text": [
            "<ipython-input-1-6882a9c84287>:4: DeprecationWarning: Conversion of an array with ndim > 0 to a scalar is deprecated, and will error in future. Ensure you extract a single element from your array before performing this operation. (Deprecated NumPy 1.25.)\n",
            "  return x+cos(x)\n"
          ]
        }
      ]
    },
    {
      "cell_type": "markdown",
      "source": [
        "## Minimizing a Function\n",
        "- A function, in this context, represents a curve, curves have high points and low points.\n",
        "- High points are called *maxima*.\n",
        "- Low points are called *minima*.\n",
        "- The highest point in the whole curve is called *global maxima*, whereas the rest of them are called *local maxima*.\n",
        "- The lowest point in whole curve is called *global minima*, whereas the rest of them are called *local minima*.\n",
        "- We can use `scipy.optimize.minimize()` function to minimize the function.\n",
        "- The minimize() function takes the following arguments:\n",
        "    - fun - a function representing an equation.\n",
        "    - x0 - an initial guess for the root.\n",
        "    - method - name of the method to use. Legal values:\n",
        "          CG - Conjugate Gradient\n",
        "          BFGS - Broyden-Fletcher-Goldfarb-Shanno\n",
        "          Newton-CG - Newton-Conjugate Gradient\n",
        "          L-BFGS-B - Limited-memory BFGS with Box constraints\n",
        "          TNC - Truncated Newton Conjugate-Gradient\n",
        "          COBYLA - Constrained Optimization BY Linear Approximations\n",
        "          SLSQP - Sequential Least Squares Programming\n",
        "    - callback - function called after each iteration of optimization.\n",
        "    - options - a dictionary defining extra params"
      ],
      "metadata": {
        "id": "oPLbD7v0ZYDy"
      }
    },
    {
      "cell_type": "code",
      "source": [
        "from scipy.optimize import minimize\n",
        "def eqn1(x):\n",
        "  return x**2+x+1\n",
        "rt1=minimize(eqn,0,method=\"BFGS\")\n",
        "print(rt1.x)\n",
        "print(rt1)"
      ],
      "metadata": {
        "colab": {
          "base_uri": "https://localhost:8080/"
        },
        "id": "2C--_NFfao2z",
        "outputId": "beebd604-5b7a-4203-e05d-94c61f78ca68"
      },
      "execution_count": null,
      "outputs": [
        {
          "output_type": "stream",
          "name": "stdout",
          "text": [
            "[-1.06232897e+08]\n",
            "  message: Optimization terminated successfully.\n",
            "  success: True\n",
            "   status: 0\n",
            "      fun: -106232897.39088017\n",
            "        x: [-1.062e+08]\n",
            "      nit: 2\n",
            "      jac: [ 0.000e+00]\n",
            " hess_inv: [[ 5.214e+00]]\n",
            "     nfev: 42\n",
            "     njev: 21\n"
          ]
        },
        {
          "output_type": "stream",
          "name": "stderr",
          "text": [
            "<ipython-input-1-6882a9c84287>:4: DeprecationWarning: Conversion of an array with ndim > 0 to a scalar is deprecated, and will error in future. Ensure you extract a single element from your array before performing this operation. (Deprecated NumPy 1.25.)\n",
            "  return x+cos(x)\n"
          ]
        }
      ]
    },
    {
      "cell_type": "markdown",
      "source": [
        "## Sparse Data\n",
        "- Sparse data is data that has mostly unused elements (elements that don't carry any information ).\n",
        "- Sparse Data: is a data set where most of the item values are zero.\n",
        "- Dense Array: is the opposite of a sparse array: most of the values are not zero.\n",
        "- In scientific computing, when we are dealing with **partial derivatives** in linear algebra we will come across sparse data.\n",
        "- `scipy.sparse` that provides functions to deal with sparse data.\n",
        "- There are primarily two types of sparse matrices that we use:\n",
        "  - *CSC* - Compressed Sparse Column. For efficient arithmetic, fast column slicing.\n",
        "  - *CSR* - Compressed Sparse Row. For fast row slicing, faster matrix vector products"
      ],
      "metadata": {
        "id": "fd4xM6ChOKNG"
      }
    },
    {
      "cell_type": "code",
      "source": [
        "import numpy as np\n",
        "from scipy.sparse import csr_matrix\n",
        "arr=np.array([0,0,0,0,0,0,1,1,0,2,0,0,9,100])\n",
        "print('   (r,c)\\t value\\n',csr_matrix(arr))#(row,col) and value"
      ],
      "metadata": {
        "id": "QnbfW7PLbFmM",
        "colab": {
          "base_uri": "https://localhost:8080/"
        },
        "outputId": "ee466bb1-8640-4dd8-cd40-904bb921735c"
      },
      "execution_count": null,
      "outputs": [
        {
          "output_type": "stream",
          "name": "stdout",
          "text": [
            "   (r,c)\t value\n",
            "   (0, 6)\t1\n",
            "  (0, 7)\t1\n",
            "  (0, 9)\t2\n",
            "  (0, 12)\t9\n",
            "  (0, 13)\t100\n"
          ]
        }
      ]
    },
    {
      "cell_type": "code",
      "source": [
        "csr_mat=csr_matrix(arr)\n",
        "print(csr_mat.data)\n",
        "print(csr_mat.count_nonzero)\n",
        "#vague-read it once more!\n",
        "csr_mat.eliminate_zeros()\n",
        "csr_mat.sum_duplicates()\n",
        "print(csr_mat)\n",
        "newarr=csr_mat.tocsc()\n",
        "print('-------------')\n",
        "print(newarr)"
      ],
      "metadata": {
        "colab": {
          "base_uri": "https://localhost:8080/"
        },
        "id": "iDOGNs36O9ay",
        "outputId": "77ceec79-8595-4007-f5e9-76064a1723c1"
      },
      "execution_count": null,
      "outputs": [
        {
          "output_type": "stream",
          "name": "stdout",
          "text": [
            "[  1   1   2   9 100]\n",
            "<bound method _data_matrix.count_nonzero of <1x14 sparse matrix of type '<class 'numpy.int64'>'\n",
            "\twith 5 stored elements in Compressed Sparse Row format>>\n",
            "  (0, 6)\t1\n",
            "  (0, 7)\t1\n",
            "  (0, 9)\t2\n",
            "  (0, 12)\t9\n",
            "  (0, 13)\t100\n",
            "-------------\n",
            "  (0, 6)\t1\n",
            "  (0, 7)\t1\n",
            "  (0, 9)\t2\n",
            "  (0, 12)\t9\n",
            "  (0, 13)\t100\n"
          ]
        }
      ]
    },
    {
      "cell_type": "markdown",
      "source": [
        "# GRAPHS\n",
        "- graph DS,`scipy.sparse.csgraph`.\n",
        "- Adjacency matrx is a **n*n** matrix(a sq matrix)\n",
        "Parameters:\n",
        "-directed (optional): A boolean indicating whether the graph is directed (True) or undirected (False). The default is True.\n",
        "- connection (optional): Specifies the type of connections to consider:\n",
        "\n",
        "  - 'weak': For directed graphs, considers weakly connected components (ignores edge directions).\n",
        "  - 'strong': For directed graphs, considers strongly connected components (respects edge directions).\n",
        "  - This parameter is only relevant when directed=True.\n",
        "- return_labels (optional): A boolean indicating whether to return the component labels for each node. Default is True."
      ],
      "metadata": {
        "id": "7Ij6gNp1UQgf"
      }
    },
    {
      "cell_type": "code",
      "source": [
        "from scipy.sparse.csgraph import connected_components\n",
        "graph=np.array([\n",
        "    [0, 1, 0, 0, 0, 0, 0, 0],  # Node 0 connected to Node 1\n",
        "    [1, 0, 0, 0, 0, 0, 0, 0],  # Node 1 connected to Node 0\n",
        "    [0, 0, 0, 1, 0, 0, 0, 0],  # Node 2 connected to Node 3\n",
        "    [0, 0, 1, 0, 0, 0, 0, 0],  # Node 3 connected to Node 2\n",
        "    [0, 0, 0, 0, 0, 1, 0, 0],  # Node 4 connected to Node 5\n",
        "    [0, 0, 0, 0, 1, 0, 0, 0],  # Node 5 connected to Node 4\n",
        "    [0, 0, 0, 0, 0, 0, 0, 1],  # Node 6 connected to Node 7\n",
        "    [0, 0, 0, 0, 0, 0, 1, 0], ])\n",
        "newg=csr_matrix(graph)\n",
        "print(connected_components(newg))\n",
        "no_of_comp,labels=connected_components(newg)\n",
        "print(no_of_comp,labels)"
      ],
      "metadata": {
        "colab": {
          "base_uri": "https://localhost:8080/"
        },
        "id": "9R298dd8QN8E",
        "outputId": "cd14cc1a-9305-469c-e03d-d7ca6100d446"
      },
      "execution_count": null,
      "outputs": [
        {
          "output_type": "stream",
          "name": "stdout",
          "text": [
            "(4, array([0, 0, 1, 1, 2, 2, 3, 3], dtype=int32))\n",
            "4 [0 0 1 1 2 2 3 3]\n"
          ]
        }
      ]
    },
    {
      "cell_type": "markdown",
      "source": [
        "## Dijkstras algorithm\n",
        "1. csgraph: The graph to search. It should be in the form of a 2D array (adjacency matrix) or sparse matrix.\n",
        "2. directed: Boolean value to indicate if the graph is directed. Default is True.\n",
        "3. indices: A list or array specifying the starting points for the search (optional). Default is None, meaning the search starts from all nodes.\n",
        "4. limit: A value that can restrict the search to a limited number of\n",
        "5. iterations. Default is None, which means no limit.\n",
        "6. return_predecessors: Boolean value that, if True, returns an array of predecessors along the shortest paths.\n",
        "7. unweighted: Boolean indicating whether to treat the graph as unweighted. Default is False.\n",
        "8. min_heap: Boolean to decide whether to use a min-heap optimization. Default is True.\n",
        "9. dtype: The data type of the output. Default is float\n"
      ],
      "metadata": {
        "id": "hkUqcLqLYSb0"
      }
    },
    {
      "cell_type": "markdown",
      "source": [
        "`scipy.sparse.csgraph.dijkstra`, returns two arrays:\n",
        "- distances: An array of the shortest distances from the specified source node to all other nodes in the graph. If a node is not reachable from the source, its distance will be inf (infinity).\n",
        "- predecessors (optional): An array of the predecessors for each node in the shortest path from the source node. This array allows you to reconstruct the shortest path."
      ],
      "metadata": {
        "id": "zcVG4dvm34UQ"
      }
    },
    {
      "cell_type": "code",
      "source": [
        "from scipy.sparse.csgraph import dijkstra\n",
        "dgraph=np.array( [[0, 4, 0, 0, 0, 0, 0, 8, 0],\n",
        "               [4, 0, 8, 0, 0, 0, 0, 11, 0],\n",
        "               [0, 8, 0, 7, 0, 4, 0, 0, 2],\n",
        "               [0, 0, 7, 0, 9, 14, 0, 0, 0],\n",
        "               [0, 0, 0, 9, 0, 10, 0, 0, 0],\n",
        "               [0, 0, 4, 14, 10, 0, 2, 0, 0],\n",
        "               [0, 0, 0, 0, 0, 2, 0, 1, 6],\n",
        "               [8, 11, 0, 0, 0, 0, 1, 0, 7],\n",
        "               [0, 0, 2, 0, 0, 0, 6, 7, 0]\n",
        "               ])\n",
        "dgraph=csr_matrix(dgraph)\n",
        "print(dijkstra(dgraph,indices=0,return_predecessors=True))\n",
        "distances,predecessor=dijkstra(dgraph,indices=0,return_predecessors=True)\n",
        "print(distances,predecessor)"
      ],
      "metadata": {
        "colab": {
          "base_uri": "https://localhost:8080/"
        },
        "id": "ngA1pd3C2yks",
        "outputId": "51f4d1b4-93fe-41eb-a7e9-31f0682c9677"
      },
      "execution_count": null,
      "outputs": [
        {
          "output_type": "stream",
          "name": "stdout",
          "text": [
            "(array([ 0.,  4., 12., 19., 21., 11.,  9.,  8., 14.]), array([-9999,     0,     1,     2,     5,     6,     7,     0,     2],\n",
            "      dtype=int32))\n"
          ]
        }
      ]
    },
    {
      "cell_type": "code",
      "source": [
        "from scipy.sparse.csgraph import floyd_warshall,bellman_ford,depth_first_order,breadth_first_order\n",
        "print(depth_first_order(dgraph,0))\n",
        "print(breadth_first_order(dgraph,0))"
      ],
      "metadata": {
        "colab": {
          "base_uri": "https://localhost:8080/"
        },
        "id": "2dD0esKK43lq",
        "outputId": "2faf2900-2e9b-4f86-bfbc-a1fd7d707520"
      },
      "execution_count": null,
      "outputs": [
        {
          "output_type": "stream",
          "name": "stdout",
          "text": [
            "(array([0, 1, 2, 3, 4, 5, 6, 7, 8], dtype=int32), array([-9999,     0,     1,     2,     3,     4,     5,     6,     7],\n",
            "      dtype=int32))\n",
            "(array([0, 1, 7, 2, 6, 8, 3, 5, 4], dtype=int32), array([-9999,     0,     1,     2,     3,     2,     7,     0,     7],\n",
            "      dtype=int32))\n"
          ]
        }
      ]
    },
    {
      "cell_type": "markdown",
      "source": [
        "## Spatial data\n",
        "- Spatial data refers to data that is represented in a geometric space.\n",
        "- `scipy.spatial` for spatial data\n",
        "---\n",
        "## Traingulation\n",
        "- A Triangulation of a polygon is to divide the polygon into multiple triangles with which we can compute an area of the polygon.\n",
        "- A Triangulation with points means creating surface composed triangles in which all of the given points are on at least one vertex of any triangle in the surface.\n",
        "- One method to generate these triangulations through points is the **Delaunay()** Triangulation."
      ],
      "metadata": {
        "id": "9cbGjGZk60G2"
      }
    },
    {
      "cell_type": "code",
      "source": [
        "#revision on matplolib\n",
        "import matplotlib.pyplot as plt\n",
        "points=np.array([[0,0],[1,1],[2,2],[3,3],[4,4]])\n",
        "plt.plot(points)\n",
        "print('points:',points,'\\npoints[:1]:',points[:1],'\\npoints[:,:]:',points[:,:],'\\npoints[1,0]:',points[1,0],'\\npoints[:2,0]:',points[:2,0])\n",
        "plt.scatter(points[:,0],points[:,1],color='b')\n",
        "plt.show()"
      ],
      "metadata": {
        "colab": {
          "base_uri": "https://localhost:8080/",
          "height": 656
        },
        "id": "nYF7-T0afs2P",
        "outputId": "e10ad760-520b-4afe-fb10-9743c22ee379"
      },
      "execution_count": null,
      "outputs": [
        {
          "output_type": "stream",
          "name": "stdout",
          "text": [
            "points: [[0 0]\n",
            " [1 1]\n",
            " [2 2]\n",
            " [3 3]\n",
            " [4 4]] \n",
            "points[:1]: [[0 0]] \n",
            "points[:,:]: [[0 0]\n",
            " [1 1]\n",
            " [2 2]\n",
            " [3 3]\n",
            " [4 4]] \n",
            "points[1,0]: 1 \n",
            "points[:2,0]: [0 1]\n"
          ]
        },
        {
          "output_type": "display_data",
          "data": {
            "text/plain": [
              "<Figure size 640x480 with 1 Axes>"
            ],
            "image/png": "[encoded data removed]"
          },
          "metadata": {}
        }
      ]
    },
    {
      "cell_type": "markdown",
      "source": [],
      "metadata": {
        "id": "VCT-VNIvpiMV"
      }
    },
    {
      "cell_type": "code",
      "source": [
        "from scipy.spatial import Delaunay\n",
        "newPoints=np.array([[2,4],[3,4],[3,0],[2,2],[4,1]])\n",
        "simplice=Delaunay(newPoints).simplices\n",
        "plt.scatter(newPoints[:,0],newPoints[:,1],color='r')\n",
        "plt.triplot(newPoints[:,0],newPoints[:,1],simplice,color='b')\n",
        "print('The numbers in each row are indices of the points in newPoints that form the vertices of that triangle:\\n',simplice)\n"
      ],
      "metadata": {
        "colab": {
          "base_uri": "https://localhost:8080/",
          "height": 499
        },
        "id": "nJ3JbAZbf-nj",
        "outputId": "abcd259d-b664-4301-a529-1a59613f6197"
      },
      "execution_count": null,
      "outputs": [
        {
          "output_type": "stream",
          "name": "stdout",
          "text": [
            "The numbers in each row are indices of the points in newPoints that form the vertices of that triangle:\n",
            " [[3 2 4]\n",
            " [3 1 0]\n",
            " [1 3 4]]\n"
          ]
        },
        {
          "output_type": "display_data",
          "data": {
            "text/plain": [
              "<Figure size 640x480 with 1 Axes>"
            ],
            "image/png": "[encoded data removed]"
          },
          "metadata": {}
        }
      ]
    },
    {
      "cell_type": "markdown",
      "source": [
        "## Convex Hull\n",
        "- A convex hull is the smallest polygon that covers all of the given points.\n",
        "- Use the `ConvexHull()` method to create a Convex Hull."
      ],
      "metadata": {
        "id": "T50jv1hltEu5"
      }
    },
    {
      "cell_type": "code",
      "source": [
        "from scipy.spatial import ConvexHull\n",
        "npoints=np.array([[2, 4],\n",
        "  [3, 4],\n",
        "  [3, 0],\n",
        "  [2, 2],\n",
        "  [4, 1],\n",
        "  [1, 2],\n",
        "  [5, 0],\n",
        "  [3, 1],\n",
        "  [1, 2],\n",
        "  [0, 2]])\n",
        "hull=ConvexHull(npoints)\n",
        "print(hull,'\\n',hull.simplices)"
      ],
      "metadata": {
        "colab": {
          "base_uri": "https://localhost:8080/"
        },
        "id": "D56Kk5ZJoKvo",
        "outputId": "a0007622-6f5c-4b3b-dc1f-c0e5d9ddf39a"
      },
      "execution_count": null,
      "outputs": [
        {
          "output_type": "stream",
          "name": "stdout",
          "text": [
            "<scipy.spatial._qhull.ConvexHull object at 0x78a63f83c580> \n",
            " [[0 9]\n",
            " [1 6]\n",
            " [1 0]\n",
            " [2 9]\n",
            " [2 6]]\n"
          ]
        }
      ]
    },
    {
      "cell_type": "markdown",
      "source": [
        "### New example!\n",
        "- points[simplex, 0]:\n",
        "points: This is a 2D NumPy array where each row represents a point in 2D space, and the columns represent the\n",
        "𝑥\n",
        "x-coordinates and\n",
        "𝑦\n",
        "y-coordinates of the points.\n",
        "\n",
        "- **For example**, if points is:\n",
        "\n",
        "`points = np.array([[2, 4], [3, 4], [3, 0], [2, 2], [4, 1]])`\n",
        "\n",
        "- points[0] is\n",
        "[\n",
        "2\n",
        ",\n",
        "4\n",
        "]\n",
        "[2,4]\n",
        "- points[1] is\n",
        "[\n",
        "3\n",
        ",\n",
        "4\n",
        "]\n",
        "[3,4]\n",
        "and so on.\n",
        "- simplex: This is an index or an array of indices that specify which points to connect. It could refer to a single triangle or a pair of points.\n",
        "\n",
        "> For instance, simplex = [0, 1] would refer to the points points[0] and points[1].\n",
        "points[simplex, 0]:\n",
        "\n",
        "> This slices the points array to select the\n",
        "𝑥\n",
        "x-coordinates of the points indexed by simplex.\n",
        "- If simplex = [0, 1], points[simplex, 0] would return the\n",
        "𝑥\n",
        "x-coordinates of the points points[0] and points[1], which would be [2, 3]."
      ],
      "metadata": {
        "id": "O0DKudkK1F2r"
      }
    },
    {
      "cell_type": "code",
      "source": [
        "plt.scatter(npoints[:,0],npoints[:,1],color='r')\n",
        "for s in hull.simplices:\n",
        "  plt.plot(npoints[s,0],npoints[s,1])"
      ],
      "metadata": {
        "colab": {
          "base_uri": "https://localhost:8080/",
          "height": 430
        },
        "id": "pWKrWzw9tWTO",
        "outputId": "45faaa11-b769-4a99-e5bc-2dba5366b38d"
      },
      "execution_count": null,
      "outputs": [
        {
          "output_type": "display_data",
          "data": {
            "text/plain": [
              "<Figure size 640x480 with 1 Axes>"
            ],
            "image/png": "[encoded data removed]"
          },
          "metadata": {}
        }
      ]
    },
    {
      "cell_type": "markdown",
      "source": [
        "## KDTrees\n",
        "KDTrees are a datastructure optimized for nearest neighbor queries.\n",
        "\n",
        "E.g. in a set of points using KDTrees we can efficiently ask which points are nearest to a certain given point.\n",
        "\n",
        "The `KDTree()` method returns a KDTree **object**.\n",
        "The `query()` method returns the distance to the nearest neighbor and the location of the neighbors."
      ],
      "metadata": {
        "id": "TkvNJwh-32AV"
      }
    },
    {
      "cell_type": "code",
      "source": [
        "import matplotlib.pyplot as plt\n",
        "import numpy as np\n",
        "from scipy.spatial import KDTree\n",
        "pointsKD=np.array([[2,2],[1,2],[1,1],[2,1]])\n",
        "plt.scatter(pointsKD[:,0],pointsKD[:,1])\n",
        "plt.scatter(1.5,1.5)\n",
        "kdtree=KDTree(pointsKD)\n",
        "result=kdtree.query((1.5,1.5))\n",
        "print(result)"
      ],
      "metadata": {
        "id": "9zSQHhnP0Rvg",
        "colab": {
          "base_uri": "https://localhost:8080/",
          "height": 447
        },
        "outputId": "998f2195-8c42-4aa8-9c75-caef5e4e1377"
      },
      "execution_count": null,
      "outputs": [
        {
          "output_type": "stream",
          "name": "stdout",
          "text": [
            "(0.7071067811865476, 0)\n"
          ]
        },
        {
          "output_type": "display_data",
          "data": {
            "text/plain": [
              "<Figure size 640x480 with 1 Axes>"
            ],
            "image/png": "[encoded data removed]"
          },
          "metadata": {}
        }
      ]
    },
    {
      "cell_type": "markdown",
      "source": [
        "- `query()`:The distance to the nearest neighbor.\n",
        "The index of the nearest neighbor in the original array.\n",
        ">PS:KDTree Implementation: When multiple points are equidistant, KDTree.query() will return the first nearest neighbor found based on the internal ordering of the points. In this case, it returns the point at index 0, which corresponds to\n",
        "(\n",
        "2\n",
        ",\n",
        "2\n",
        ")\n",
        "(2,2)."
      ],
      "metadata": {
        "id": "GT7yNEgU6zBW"
      }
    },
    {
      "cell_type": "markdown",
      "source": [
        "## DISTANCES\n",
        "- ***Euclidian distance***: d = $\\sqrt{(x_2 - x_1)^2 + (y_2 - y_1)^2}$\n",
        "- There are many Distance Metrics used to find various types of distances between two points in data science, `Euclidean distsance, cosine distsance` etc.\n",
        "- The distance between two vectors may not only be the length of straight line between them, it can also be the *angle between them from origin*, or *number of unit steps required* etc.\n",
        "- Many of the Machine Learning algorithm's performance depends greatly on distance metrices. E.g. \"K Nearest Neighbors\", or \"K Means\" etc.\n",
        "- ***Manhatan distance***: $d = |x_2 - x_1| + |y_2 - y_1|\n",
        "$\n",
        "- Cityblock Distance (Manhattan Distance)\n",
        "Is the distance computed using *4 degrees of movement*.\n",
        "  - E.g. we can only move: up, down, right, or left, not diagonally.\n"
      ],
      "metadata": {
        "id": "uVLQJ3tj8PFv"
      }
    },
    {
      "cell_type": "code",
      "source": [
        "plt.scatter(np.array([1,5]),np.array([2,7]),color='r')\n",
        "plt.plot(np.array([1,5]),np.array([2,7]),color='b')\n",
        "from scipy.spatial.distance import cityblock,euclidean\n",
        "p1=(1,2)\n",
        "p2=(7,5)\n",
        "resE=euclidean(p1,p2)\n",
        "resM=cityblock(p1,p2)\n",
        "print(resE,resM)"
      ],
      "metadata": {
        "colab": {
          "base_uri": "https://localhost:8080/",
          "height": 447
        },
        "id": "oiV8XtPz8C0n",
        "outputId": "bd4e50e0-c106-4aac-d4bd-e0e7412a1a17"
      },
      "execution_count": 11,
      "outputs": [
        {
          "output_type": "stream",
          "name": "stdout",
          "text": [
            "6.708203932499369 9\n"
          ]
        },
        {
          "output_type": "display_data",
          "data": {
            "text/plain": [
              "<Figure size 640x480 with 1 Axes>"
            ],
            "image/png": "[encoded data removed]"
          },
          "metadata": {}
        }
      ]
    },
    {
      "cell_type": "markdown",
      "source": [
        "- ***Cosine Distance***:Is the value of cosine angle between the two points A and B.\n",
        "- In Python, the scipy.spatial.distance module provides a convenient way to compute the cosine distance between **two points (or vectors)** using the cosine function.\n",
        "\n",
        "The cosine distance is computed as:\n",
        "$\\text{Cosine Distance} = 1 - \\frac{\\mathbf{a} \\cdot \\mathbf{b}}{\\|\\mathbf{a}\\| \\|\\mathbf{b}\\|}\n",
        "$\n",
        "\n",
        "- This measures the ***angular distance between two vectors*** in a multidimensional space.\n",
        "- It's especially useful for comparing the **orientation of the vectors** rather than their magnitude.\n"
      ],
      "metadata": {
        "id": "mNBqkvRX-VrJ"
      }
    },
    {
      "cell_type": "code",
      "source": [
        "from scipy.spatial.distance import cosine\n",
        "resC=cosine(p1,p2)\n",
        "print(resC)"
      ],
      "metadata": {
        "colab": {
          "base_uri": "https://localhost:8080/"
        },
        "id": "X1QCX1tG-VNm",
        "outputId": "fb702fa5-f502-41e9-b557-6fa0e87470eb"
      },
      "execution_count": 13,
      "outputs": [
        {
          "output_type": "stream",
          "name": "stdout",
          "text": [
            "0.11621208365293811\n"
          ]
        }
      ]
    },
    {
      "cell_type": "markdown",
      "source": [
        "- **Hamming distance:**The hamming function in scipy.spatial.distance computes the normalized Hamming distance, which is defined as the fraction of differing positions between the two vectors.\n",
        "- For binary vectors, the Hamming distance is the number of differing positions. To compute the **unnormalized Hamming distance**, you can multiply the result by the `*length of the vector*."
      ],
      "metadata": {
        "id": "AyuvNP71_vFX"
      }
    },
    {
      "cell_type": "code",
      "source": [
        "from scipy.spatial.distance import hamming\n",
        "vector1=[1,1,1,1,0,0,0]\n",
        "vector2=[1,1,1,0,0,1,1]\n",
        "resH=hamming(vector1,vector2)\n",
        "print('Nomralised:',resH,' unnormalized:',resH*len(vector1))"
      ],
      "metadata": {
        "colab": {
          "base_uri": "https://localhost:8080/"
        },
        "id": "iVzDMqi58FVD",
        "outputId": "882c3fb2-72f7-4257-8069-8218af0bd2ab"
      },
      "execution_count": 14,
      "outputs": [
        {
          "output_type": "stream",
          "name": "stdout",
          "text": [
            "Nomralised: 0.42857142857142855  unnormalized: 3.0\n"
          ]
        }
      ]
    },
    {
      "cell_type": "code",
      "source": [
        "pts1=(False,False,True,True)\n",
        "pts2=(True,False,False,False)\n",
        "resHa=hamming(pts1,pts2)\n",
        "print('Nomralized: ',resHa,' Unnormalized: ',resHa*len(pts1))"
      ],
      "metadata": {
        "id": "iPgAsUwZ5MeW",
        "colab": {
          "base_uri": "https://localhost:8080/"
        },
        "outputId": "1924d543-0e38-4814-8914-135a2080f979"
      },
      "execution_count": 15,
      "outputs": [
        {
          "output_type": "stream",
          "name": "stdout",
          "text": [
            "Nomralized:  0.75  Unnormalized:  3.0\n"
          ]
        }
      ]
    },
    {
      "cell_type": "code",
      "source": [],
      "metadata": {
        "id": "L_SwGJeaDCak"
      },
      "execution_count": null,
      "outputs": []
    }
  ]
}