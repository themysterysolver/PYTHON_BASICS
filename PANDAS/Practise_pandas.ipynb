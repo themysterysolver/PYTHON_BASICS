{
  "nbformat": 4,
  "nbformat_minor": 0,
  "metadata": {
    "colab": {
      "provenance": [],
      "authorship_tag": "ABX9TyNjvz53x8MoFgWRkmFiD5k3",
      "include_colab_link": true
    },
    "kernelspec": {
      "name": "python3",
      "display_name": "Python 3"
    },
    "language_info": {
      "name": "python"
    }
  },
  "cells": [
    {
      "cell_type": "markdown",
      "metadata": {
        "id": "view-in-github",
        "colab_type": "text"
      },
      "source": [
        "<a href=\"https://colab.research.google.com/github/themysterysolver/PYTHON_BASICS/blob/main/PANDAS/Practise_pandas.ipynb\" target=\"_parent\"><img src=\"https://colab.research.google.com/assets/colab-badge.svg\" alt=\"Open In Colab\"/></a>"
      ]
    },
    {
      "cell_type": "code",
      "execution_count": null,
      "metadata": {
        "id": "obulkJ6k4M_k"
      },
      "outputs": [],
      "source": [
        "import pandas as pd"
      ]
    },
    {
      "cell_type": "markdown",
      "source": [
        "Pandas stands for panel data.\n",
        "---\n",
        "Pandas are also able to delete rows that are not relevant, or contains wrong values, like empty or NULL values. This is called cleaning the data.\n"
      ],
      "metadata": {
        "id": "hHWrg6xE8hn3"
      }
    },
    {
      "cell_type": "code",
      "source": [
        "print(pd.__version__)"
      ],
      "metadata": {
        "colab": {
          "base_uri": "https://localhost:8080/"
        },
        "id": "b93XBPRV8ETD",
        "outputId": "1a6215b4-12a0-4dba-b316-7b2bbae5b64b"
      },
      "execution_count": null,
      "outputs": [
        {
          "output_type": "stream",
          "name": "stdout",
          "text": [
            "2.2.2\n"
          ]
        }
      ]
    },
    {
      "cell_type": "markdown",
      "source": [
        "Series\n",
        "---\n",
        "A Pandas Series is like a ***column*** in a table.\n",
        "\n",
        "It is a one-dimensional array holding data of any type.\n",
        "With the `index` argument, you can name your `own labels`."
      ],
      "metadata": {
        "id": "6AxleDAY9lWx"
      }
    },
    {
      "cell_type": "code",
      "source": [
        "a=[1,3,5,7,9]\n",
        "s=pd.Series(a)\n",
        "print(s)"
      ],
      "metadata": {
        "colab": {
          "base_uri": "https://localhost:8080/"
        },
        "id": "7MY1-6VT9w75",
        "outputId": "ccbb6977-bade-4977-c40b-3cda9471670f"
      },
      "execution_count": null,
      "outputs": [
        {
          "output_type": "stream",
          "name": "stdout",
          "text": [
            "0    1\n",
            "1    3\n",
            "2    5\n",
            "3    7\n",
            "4    9\n",
            "dtype: int64\n"
          ]
        }
      ]
    },
    {
      "cell_type": "code",
      "source": [
        "s=pd.Series(a,index=[\"p\",\"q\",\"x\",\"y\",\"z\"])\n",
        "#index-helps with labels(parameter)"
      ],
      "metadata": {
        "id": "27AHaGX995q-"
      },
      "execution_count": null,
      "outputs": []
    },
    {
      "cell_type": "code",
      "source": [
        "print(s)"
      ],
      "metadata": {
        "colab": {
          "base_uri": "https://localhost:8080/"
        },
        "id": "grksV5G6-TVr",
        "outputId": "62c840b0-3c90-4d19-f7bd-73d77e2f9e26"
      },
      "execution_count": null,
      "outputs": [
        {
          "output_type": "stream",
          "name": "stdout",
          "text": [
            "p    1\n",
            "q    3\n",
            "x    5\n",
            "y    7\n",
            "z    9\n",
            "dtype: int64\n"
          ]
        }
      ]
    },
    {
      "cell_type": "code",
      "source": [
        "print(s[\"y\"])"
      ],
      "metadata": {
        "colab": {
          "base_uri": "https://localhost:8080/"
        },
        "id": "RclyPT0M-VnV",
        "outputId": "08a71bbb-7a06-4890-d76e-e82ebfba2417"
      },
      "execution_count": null,
      "outputs": [
        {
          "output_type": "stream",
          "name": "stdout",
          "text": [
            "7\n"
          ]
        }
      ]
    },
    {
      "cell_type": "code",
      "source": [
        "d={i:i+1 for i in range(1,5)}"
      ],
      "metadata": {
        "id": "pEnyFzVj_BMy"
      },
      "execution_count": null,
      "outputs": []
    },
    {
      "cell_type": "code",
      "source": [
        "print(d)"
      ],
      "metadata": {
        "colab": {
          "base_uri": "https://localhost:8080/"
        },
        "id": "aOBrG6TQ_IAM",
        "outputId": "56f11d2e-095e-4e71-9d1a-b22581188fed"
      },
      "execution_count": null,
      "outputs": [
        {
          "output_type": "stream",
          "name": "stdout",
          "text": [
            "{1: 2, 2: 3, 3: 4, 4: 5}\n"
          ]
        }
      ]
    },
    {
      "cell_type": "markdown",
      "source": [
        "- To select only some of the items in the dictionary, use the index argument and specify only the items you want to include in the Series.\n",
        "   - The ***keys*** of the dictionary become the labels.\n",
        "-  use a **key/value** object, like a dictionary, when creating a Series."
      ],
      "metadata": {
        "id": "KtRhSfYn_qtV"
      }
    },
    {
      "cell_type": "code",
      "source": [
        "ns=pd.Series(d)\n",
        "print(ns)\n",
        "ns1=pd.Series(d,index=[1,2,3])\n",
        "print(ns1)"
      ],
      "metadata": {
        "colab": {
          "base_uri": "https://localhost:8080/"
        },
        "id": "BSdJ7Li4_NFv",
        "outputId": "e660b395-0183-435e-dd17-da613c4095b4"
      },
      "execution_count": null,
      "outputs": [
        {
          "output_type": "stream",
          "name": "stdout",
          "text": [
            "1    2\n",
            "2    3\n",
            "3    4\n",
            "4    5\n",
            "dtype: int64\n",
            "1    2\n",
            "2    3\n",
            "3    4\n",
            "dtype: int64\n"
          ]
        }
      ]
    },
    {
      "cell_type": "markdown",
      "source": [
        "# DataFrames\n",
        "- Data sets in Pandas are usually multi-dimensional tables, called **DataFrames**.\n",
        "    - `Series` is like a ***column***\n",
        "    - `DataFrame` is the whole ***table***.\n",
        "- ***pd.DataFrame()***.It returns a DataFrame object, which is a container for structured data.\n",
        "- A Pandas DataFrame is a 2 dimensional data structure, like a 2 dimensional array, or a table with rows and columns.`2D-r,c`\n",
        "- When you use **pd.read_csv()** to read a CSV file, it loads the content of the CSV file into a Pandas DataFrame objec"
      ],
      "metadata": {
        "id": "C-oWtN9X__XR"
      }
    },
    {
      "cell_type": "code",
      "source": [
        "iris=pd.read_csv('iris.csv')"
      ],
      "metadata": {
        "id": "NEsJYHqP_-xT"
      },
      "execution_count": null,
      "outputs": []
    },
    {
      "cell_type": "code",
      "source": [
        "print(iris)\n",
        "#famous iris data set"
      ],
      "metadata": {
        "colab": {
          "base_uri": "https://localhost:8080/"
        },
        "id": "IRl9uPdA_RRa",
        "outputId": "2e4c94ed-61ba-46d1-b4ff-009f4f10f765"
      },
      "execution_count": null,
      "outputs": [
        {
          "output_type": "stream",
          "name": "stdout",
          "text": [
            "     sepal.length  sepal.width  petal.length  petal.width    variety\n",
            "0             5.1          3.5           1.4          0.2     Setosa\n",
            "1             4.9          3.0           1.4          0.2     Setosa\n",
            "2             4.7          3.2           1.3          0.2     Setosa\n",
            "3             4.6          3.1           1.5          0.2     Setosa\n",
            "4             5.0          3.6           1.4          0.2     Setosa\n",
            "..            ...          ...           ...          ...        ...\n",
            "145           6.7          3.0           5.2          2.3  Virginica\n",
            "146           6.3          2.5           5.0          1.9  Virginica\n",
            "147           6.5          3.0           5.2          2.0  Virginica\n",
            "148           6.2          3.4           5.4          2.3  Virginica\n",
            "149           5.9          3.0           5.1          1.8  Virginica\n",
            "\n",
            "[150 rows x 5 columns]\n"
          ]
        }
      ]
    },
    {
      "cell_type": "markdown",
      "source": [
        "LOC\n",
        "```\n",
        "DataFrame.loc[row_labels, column_labels]\n",
        "```\n",
        "- Locate Row:loc()\n",
        "- Pandas use the loc attribute to return one or more specified row(s)\n"
      ],
      "metadata": {
        "id": "ywd_DmJDCkEk"
      }
    },
    {
      "cell_type": "code",
      "source": [
        "print(iris.loc[0])\n",
        "print(iris.loc[[0,1,3,149]]) # List of Labels: Select multiple rows\n",
        "print(iris.loc[[1],\"sepal.length\"])\n",
        "print(iris.loc[0:10,[\"sepal.length\",\"sepal.width\"]])#(row,col)"
      ],
      "metadata": {
        "colab": {
          "base_uri": "https://localhost:8080/"
        },
        "id": "pbEqcC6HCaXP",
        "outputId": "d03a9070-a33f-4f44-f10f-79f19c345725"
      },
      "execution_count": null,
      "outputs": [
        {
          "output_type": "stream",
          "name": "stdout",
          "text": [
            "sepal.length       5.1\n",
            "sepal.width        3.5\n",
            "petal.length       1.4\n",
            "petal.width        0.2\n",
            "variety         Setosa\n",
            "Name: 0, dtype: object\n",
            "     sepal.length  sepal.width  petal.length  petal.width    variety\n",
            "0             5.1          3.5           1.4          0.2     Setosa\n",
            "1             4.9          3.0           1.4          0.2     Setosa\n",
            "3             4.6          3.1           1.5          0.2     Setosa\n",
            "149           5.9          3.0           5.1          1.8  Virginica\n",
            "1    4.9\n",
            "Name: sepal.length, dtype: float64\n",
            "    sepal.length  sepal.width\n",
            "0            5.1          3.5\n",
            "1            4.9          3.0\n",
            "2            4.7          3.2\n",
            "3            4.6          3.1\n",
            "4            5.0          3.6\n",
            "5            5.4          3.9\n",
            "6            4.6          3.4\n",
            "7            5.0          3.4\n",
            "8            4.4          2.9\n",
            "9            4.9          3.1\n",
            "10           5.4          3.7\n"
          ]
        }
      ]
    },
    {
      "cell_type": "markdown",
      "source": [
        "- ***to_string()*** to print the entire DataFrame.\n",
        "- If you have a large DataFrame with many rows, Pandas will only return the first 5 rows, and the last 5 rows:"
      ],
      "metadata": {
        "id": "pCCrJMnHUMUh"
      }
    },
    {
      "cell_type": "code",
      "source": [
        "print(iris.to_string())"
      ],
      "metadata": {
        "colab": {
          "base_uri": "https://localhost:8080/"
        },
        "id": "ur2BAarLGsIw",
        "outputId": "3258b66d-8d77-42bd-b31c-169249bd4ffb"
      },
      "execution_count": null,
      "outputs": [
        {
          "output_type": "stream",
          "name": "stdout",
          "text": [
            "     sepal.length  sepal.width  petal.length  petal.width     variety\n",
            "0             5.1          3.5           1.4          0.2      Setosa\n",
            "1             4.9          3.0           1.4          0.2      Setosa\n",
            "2             4.7          3.2           1.3          0.2      Setosa\n",
            "3             4.6          3.1           1.5          0.2      Setosa\n",
            "4             5.0          3.6           1.4          0.2      Setosa\n",
            "5             5.4          3.9           1.7          0.4      Setosa\n",
            "6             4.6          3.4           1.4          0.3      Setosa\n",
            "7             5.0          3.4           1.5          0.2      Setosa\n",
            "8             4.4          2.9           1.4          0.2      Setosa\n",
            "9             4.9          3.1           1.5          0.1      Setosa\n",
            "10            5.4          3.7           1.5          0.2      Setosa\n",
            "11            4.8          3.4           1.6          0.2      Setosa\n",
            "12            4.8          3.0           1.4          0.1      Setosa\n",
            "13            4.3          3.0           1.1          0.1      Setosa\n",
            "14            5.8          4.0           1.2          0.2      Setosa\n",
            "15            5.7          4.4           1.5          0.4      Setosa\n",
            "16            5.4          3.9           1.3          0.4      Setosa\n",
            "17            5.1          3.5           1.4          0.3      Setosa\n",
            "18            5.7          3.8           1.7          0.3      Setosa\n",
            "19            5.1          3.8           1.5          0.3      Setosa\n",
            "20            5.4          3.4           1.7          0.2      Setosa\n",
            "21            5.1          3.7           1.5          0.4      Setosa\n",
            "22            4.6          3.6           1.0          0.2      Setosa\n",
            "23            5.1          3.3           1.7          0.5      Setosa\n",
            "24            4.8          3.4           1.9          0.2      Setosa\n",
            "25            5.0          3.0           1.6          0.2      Setosa\n",
            "26            5.0          3.4           1.6          0.4      Setosa\n",
            "27            5.2          3.5           1.5          0.2      Setosa\n",
            "28            5.2          3.4           1.4          0.2      Setosa\n",
            "29            4.7          3.2           1.6          0.2      Setosa\n",
            "30            4.8          3.1           1.6          0.2      Setosa\n",
            "31            5.4          3.4           1.5          0.4      Setosa\n",
            "32            5.2          4.1           1.5          0.1      Setosa\n",
            "33            5.5          4.2           1.4          0.2      Setosa\n",
            "34            4.9          3.1           1.5          0.2      Setosa\n",
            "35            5.0          3.2           1.2          0.2      Setosa\n",
            "36            5.5          3.5           1.3          0.2      Setosa\n",
            "37            4.9          3.6           1.4          0.1      Setosa\n",
            "38            4.4          3.0           1.3          0.2      Setosa\n",
            "39            5.1          3.4           1.5          0.2      Setosa\n",
            "40            5.0          3.5           1.3          0.3      Setosa\n",
            "41            4.5          2.3           1.3          0.3      Setosa\n",
            "42            4.4          3.2           1.3          0.2      Setosa\n",
            "43            5.0          3.5           1.6          0.6      Setosa\n",
            "44            5.1          3.8           1.9          0.4      Setosa\n",
            "45            4.8          3.0           1.4          0.3      Setosa\n",
            "46            5.1          3.8           1.6          0.2      Setosa\n",
            "47            4.6          3.2           1.4          0.2      Setosa\n",
            "48            5.3          3.7           1.5          0.2      Setosa\n",
            "49            5.0          3.3           1.4          0.2      Setosa\n",
            "50            7.0          3.2           4.7          1.4  Versicolor\n",
            "51            6.4          3.2           4.5          1.5  Versicolor\n",
            "52            6.9          3.1           4.9          1.5  Versicolor\n",
            "53            5.5          2.3           4.0          1.3  Versicolor\n",
            "54            6.5          2.8           4.6          1.5  Versicolor\n",
            "55            5.7          2.8           4.5          1.3  Versicolor\n",
            "56            6.3          3.3           4.7          1.6  Versicolor\n",
            "57            4.9          2.4           3.3          1.0  Versicolor\n",
            "58            6.6          2.9           4.6          1.3  Versicolor\n",
            "59            5.2          2.7           3.9          1.4  Versicolor\n",
            "60            5.0          2.0           3.5          1.0  Versicolor\n",
            "61            5.9          3.0           4.2          1.5  Versicolor\n",
            "62            6.0          2.2           4.0          1.0  Versicolor\n",
            "63            6.1          2.9           4.7          1.4  Versicolor\n",
            "64            5.6          2.9           3.6          1.3  Versicolor\n",
            "65            6.7          3.1           4.4          1.4  Versicolor\n",
            "66            5.6          3.0           4.5          1.5  Versicolor\n",
            "67            5.8          2.7           4.1          1.0  Versicolor\n",
            "68            6.2          2.2           4.5          1.5  Versicolor\n",
            "69            5.6          2.5           3.9          1.1  Versicolor\n",
            "70            5.9          3.2           4.8          1.8  Versicolor\n",
            "71            6.1          2.8           4.0          1.3  Versicolor\n",
            "72            6.3          2.5           4.9          1.5  Versicolor\n",
            "73            6.1          2.8           4.7          1.2  Versicolor\n",
            "74            6.4          2.9           4.3          1.3  Versicolor\n",
            "75            6.6          3.0           4.4          1.4  Versicolor\n",
            "76            6.8          2.8           4.8          1.4  Versicolor\n",
            "77            6.7          3.0           5.0          1.7  Versicolor\n",
            "78            6.0          2.9           4.5          1.5  Versicolor\n",
            "79            5.7          2.6           3.5          1.0  Versicolor\n",
            "80            5.5          2.4           3.8          1.1  Versicolor\n",
            "81            5.5          2.4           3.7          1.0  Versicolor\n",
            "82            5.8          2.7           3.9          1.2  Versicolor\n",
            "83            6.0          2.7           5.1          1.6  Versicolor\n",
            "84            5.4          3.0           4.5          1.5  Versicolor\n",
            "85            6.0          3.4           4.5          1.6  Versicolor\n",
            "86            6.7          3.1           4.7          1.5  Versicolor\n",
            "87            6.3          2.3           4.4          1.3  Versicolor\n",
            "88            5.6          3.0           4.1          1.3  Versicolor\n",
            "89            5.5          2.5           4.0          1.3  Versicolor\n",
            "90            5.5          2.6           4.4          1.2  Versicolor\n",
            "91            6.1          3.0           4.6          1.4  Versicolor\n",
            "92            5.8          2.6           4.0          1.2  Versicolor\n",
            "93            5.0          2.3           3.3          1.0  Versicolor\n",
            "94            5.6          2.7           4.2          1.3  Versicolor\n",
            "95            5.7          3.0           4.2          1.2  Versicolor\n",
            "96            5.7          2.9           4.2          1.3  Versicolor\n",
            "97            6.2          2.9           4.3          1.3  Versicolor\n",
            "98            5.1          2.5           3.0          1.1  Versicolor\n",
            "99            5.7          2.8           4.1          1.3  Versicolor\n",
            "100           6.3          3.3           6.0          2.5   Virginica\n",
            "101           5.8          2.7           5.1          1.9   Virginica\n",
            "102           7.1          3.0           5.9          2.1   Virginica\n",
            "103           6.3          2.9           5.6          1.8   Virginica\n",
            "104           6.5          3.0           5.8          2.2   Virginica\n",
            "105           7.6          3.0           6.6          2.1   Virginica\n",
            "106           4.9          2.5           4.5          1.7   Virginica\n",
            "107           7.3          2.9           6.3          1.8   Virginica\n",
            "108           6.7          2.5           5.8          1.8   Virginica\n",
            "109           7.2          3.6           6.1          2.5   Virginica\n",
            "110           6.5          3.2           5.1          2.0   Virginica\n",
            "111           6.4          2.7           5.3          1.9   Virginica\n",
            "112           6.8          3.0           5.5          2.1   Virginica\n",
            "113           5.7          2.5           5.0          2.0   Virginica\n",
            "114           5.8          2.8           5.1          2.4   Virginica\n",
            "115           6.4          3.2           5.3          2.3   Virginica\n",
            "116           6.5          3.0           5.5          1.8   Virginica\n",
            "117           7.7          3.8           6.7          2.2   Virginica\n",
            "118           7.7          2.6           6.9          2.3   Virginica\n",
            "119           6.0          2.2           5.0          1.5   Virginica\n",
            "120           6.9          3.2           5.7          2.3   Virginica\n",
            "121           5.6          2.8           4.9          2.0   Virginica\n",
            "122           7.7          2.8           6.7          2.0   Virginica\n",
            "123           6.3          2.7           4.9          1.8   Virginica\n",
            "124           6.7          3.3           5.7          2.1   Virginica\n",
            "125           7.2          3.2           6.0          1.8   Virginica\n",
            "126           6.2          2.8           4.8          1.8   Virginica\n",
            "127           6.1          3.0           4.9          1.8   Virginica\n",
            "128           6.4          2.8           5.6          2.1   Virginica\n",
            "129           7.2          3.0           5.8          1.6   Virginica\n",
            "130           7.4          2.8           6.1          1.9   Virginica\n",
            "131           7.9          3.8           6.4          2.0   Virginica\n",
            "132           6.4          2.8           5.6          2.2   Virginica\n",
            "133           6.3          2.8           5.1          1.5   Virginica\n",
            "134           6.1          2.6           5.6          1.4   Virginica\n",
            "135           7.7          3.0           6.1          2.3   Virginica\n",
            "136           6.3          3.4           5.6          2.4   Virginica\n",
            "137           6.4          3.1           5.5          1.8   Virginica\n",
            "138           6.0          3.0           4.8          1.8   Virginica\n",
            "139           6.9          3.1           5.4          2.1   Virginica\n",
            "140           6.7          3.1           5.6          2.4   Virginica\n",
            "141           6.9          3.1           5.1          2.3   Virginica\n",
            "142           5.8          2.7           5.1          1.9   Virginica\n",
            "143           6.8          3.2           5.9          2.3   Virginica\n",
            "144           6.7          3.3           5.7          2.5   Virginica\n",
            "145           6.7          3.0           5.2          2.3   Virginica\n",
            "146           6.3          2.5           5.0          1.9   Virginica\n",
            "147           6.5          3.0           5.2          2.0   Virginica\n",
            "148           6.2          3.4           5.4          2.3   Virginica\n",
            "149           5.9          3.0           5.1          1.8   Virginica\n"
          ]
        }
      ]
    },
    {
      "cell_type": "markdown",
      "source": [
        "### max_rows\n",
        "- The number of rows returned is defined in Pandas option settings.\n",
        "\n",
        "- You can check your *system's maximum rows* with the **pd.options.display.max_rows** statement."
      ],
      "metadata": {
        "id": "ECvPaARxUqKB"
      }
    },
    {
      "cell_type": "code",
      "source": [
        "print(pd.options.display.max_rows)\n",
        "pd.options.display.max_rows=100\n",
        "print(pd.options.display.max_rows)"
      ],
      "metadata": {
        "colab": {
          "base_uri": "https://localhost:8080/"
        },
        "id": "h11Cqj23UJ0_",
        "outputId": "2bf4571a-25b5-4da2-e40f-bdc02a3fc16f"
      },
      "execution_count": null,
      "outputs": [
        {
          "output_type": "stream",
          "name": "stdout",
          "text": [
            "60\n",
            "100\n"
          ]
        }
      ]
    },
    {
      "cell_type": "markdown",
      "source": [
        "\n",
        "#### What is JSON Format?\n",
        "- **JSON (JavaScript Object Notation)** is a lightweight data interchange format that is easy for humans to read and write and easy for machines to parse and generate.\n",
        "\n",
        "1. JSON Object:\n",
        "An object is a collection of key-value pairs.\n",
        "Keys are strings (must be enclosed in double quotes).\n",
        "Values can be strings, numbers, booleans, arrays, objects, or null.\n",
        "\n",
        "- JSON = Python Dictionary\n",
        "- JSON objects have the same format as Python dictionaries."
      ],
      "metadata": {
        "id": "u-bFAcrLVqsa"
      }
    },
    {
      "cell_type": "markdown",
      "source": [
        "### Viewing the Data\n",
        "One of the most used method for getting a *quick overview* of the DataFrame, is the `head()` method.\n",
        "\n",
        "The head() method `returns the headers` and a specified ***number of rows, starting from the top***."
      ],
      "metadata": {
        "id": "uc5SNFGPW07J"
      }
    },
    {
      "cell_type": "code",
      "source": [
        "print(iris.head())#top 5 rows.\n",
        "print(iris.head(10))"
      ],
      "metadata": {
        "colab": {
          "base_uri": "https://localhost:8080/"
        },
        "id": "H2E4GdZNXYkY",
        "outputId": "d54f765b-568d-4ba4-9633-36d1d2925247"
      },
      "execution_count": null,
      "outputs": [
        {
          "output_type": "stream",
          "name": "stdout",
          "text": [
            "   sepal.length  sepal.width  petal.length  petal.width variety\n",
            "0           5.1          3.5           1.4          0.2  Setosa\n",
            "1           4.9          3.0           1.4          0.2  Setosa\n",
            "2           4.7          3.2           1.3          0.2  Setosa\n",
            "3           4.6          3.1           1.5          0.2  Setosa\n",
            "4           5.0          3.6           1.4          0.2  Setosa\n",
            "   sepal.length  sepal.width  petal.length  petal.width variety\n",
            "0           5.1          3.5           1.4          0.2  Setosa\n",
            "1           4.9          3.0           1.4          0.2  Setosa\n",
            "2           4.7          3.2           1.3          0.2  Setosa\n",
            "3           4.6          3.1           1.5          0.2  Setosa\n",
            "4           5.0          3.6           1.4          0.2  Setosa\n",
            "5           5.4          3.9           1.7          0.4  Setosa\n",
            "6           4.6          3.4           1.4          0.3  Setosa\n",
            "7           5.0          3.4           1.5          0.2  Setosa\n",
            "8           4.4          2.9           1.4          0.2  Setosa\n",
            "9           4.9          3.1           1.5          0.1  Setosa\n"
          ]
        }
      ]
    },
    {
      "cell_type": "code",
      "source": [
        "print(iris.tail())#bottom 5 rows\n",
        "print(iris.info())"
      ],
      "metadata": {
        "colab": {
          "base_uri": "https://localhost:8080/"
        },
        "id": "uUomG4b0Xgaz",
        "outputId": "bc6cc2f5-14c5-4b99-9ac4-56d66f386706"
      },
      "execution_count": null,
      "outputs": [
        {
          "output_type": "stream",
          "name": "stdout",
          "text": [
            "     sepal.length  sepal.width  petal.length  petal.width    variety\n",
            "145           6.7          3.0           5.2          2.3  Virginica\n",
            "146           6.3          2.5           5.0          1.9  Virginica\n",
            "147           6.5          3.0           5.2          2.0  Virginica\n",
            "148           6.2          3.4           5.4          2.3  Virginica\n",
            "149           5.9          3.0           5.1          1.8  Virginica\n",
            "<class 'pandas.core.frame.DataFrame'>\n",
            "RangeIndex: 150 entries, 0 to 149\n",
            "Data columns (total 5 columns):\n",
            " #   Column        Non-Null Count  Dtype  \n",
            "---  ------        --------------  -----  \n",
            " 0   sepal.length  150 non-null    float64\n",
            " 1   sepal.width   150 non-null    float64\n",
            " 2   petal.length  150 non-null    float64\n",
            " 3   petal.width   150 non-null    float64\n",
            " 4   variety       150 non-null    object \n",
            "dtypes: float64(4), object(1)\n",
            "memory usage: 6.0+ KB\n",
            "None\n"
          ]
        }
      ]
    },
    {
      "cell_type": "code",
      "source": [],
      "metadata": {
        "id": "HgfEm34VX2RQ"
      },
      "execution_count": null,
      "outputs": []
    }
  ]
}