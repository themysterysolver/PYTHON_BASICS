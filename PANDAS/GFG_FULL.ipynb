{
  "nbformat": 4,
  "nbformat_minor": 0,
  "metadata": {
    "colab": {
      "provenance": [],
      "authorship_tag": "ABX9TyO7eLZ4/VK+PssAZjZlK3TU",
      "include_colab_link": true
    },
    "kernelspec": {
      "name": "python3",
      "display_name": "Python 3"
    },
    "language_info": {
      "name": "python"
    }
  },
  "cells": [
    {
      "cell_type": "markdown",
      "metadata": {
        "id": "view-in-github",
        "colab_type": "text"
      },
      "source": [
        "<a href=\"https://colab.research.google.com/github/themysterysolver/PYTHON_BASICS/blob/main/PANDAS/GFG_FULL.ipynb\" target=\"_parent\"><img src=\"https://colab.research.google.com/assets/colab-badge.svg\" alt=\"Open In Colab\"/></a>"
      ]
    },
    {
      "cell_type": "markdown",
      "source": [
        "#PANDAS"
      ],
      "metadata": {
        "id": "HK-ZrLK1uE-v"
      }
    },
    {
      "cell_type": "markdown",
      "source": [
        "- It is built on top of the NumPy library which means that a lot of the structures of NumPy are used or replicated in Pandas.\n",
        "- The data produced by Pandas is often used as input for plotting functions in Matplotlib, statistical analysis in SciPy, and machine learning algorithms in Scikit-learn.\n",
        "- we can do using Pandas.\n",
        "  - Data set cleaning, merging, and joining.\n",
        "  - Easy handling of missing data (represented as NaN) in floating point as well as non-floating point data.\n",
        "  - Columns can be inserted and deleted from DataFrame and higher-dimensional objects.\n",
        "  - Powerful group by functionality for performing split-apply-combine operations on data sets.\n",
        "  - Data Visualization."
      ],
      "metadata": {
        "id": "JW0OjNNt0Ju9"
      }
    },
    {
      "cell_type": "markdown",
      "source": [
        "- Data Structures in Pandas Library\n",
        "Pandas generally provide two data structures for manipulating data. They are:\n",
        "  - Series\n",
        "  - DataFrame"
      ],
      "metadata": {
        "id": "_Z54cD7j0gWL"
      }
    },
    {
      "cell_type": "markdown",
      "source": [
        "- Pandas DataStructures is created by loading the datasets from existing storage (which can be a SQL database, a CSV file, or an Excel file).\n",
        "- Pandas DataStructures can be created from ***lists, dictionaries, a list of dictionaries***, etc."
      ],
      "metadata": {
        "id": "E5AqyZ-s1VuZ"
      }
    },
    {
      "cell_type": "code",
      "source": [
        "import pandas as pd\n",
        "import numpy as np"
      ],
      "metadata": {
        "id": "aWo6b2JlzCnJ"
      },
      "execution_count": 1,
      "outputs": []
    },
    {
      "cell_type": "code",
      "source": [
        "ser=pd.Series(np.array([chr(i+ord('a')) for i in range(1,5)]))\n",
        "print(ser)\n",
        "df=pd.DataFrame({'a':[1,2,3],'b':[4,5,6]})#len(row) should be equal for all rows\n",
        "print(df)"
      ],
      "metadata": {
        "colab": {
          "base_uri": "https://localhost:8080/"
        },
        "id": "fdeOCuXh02sQ",
        "outputId": "1184dff8-ec0c-41e4-b464-52ef13143754"
      },
      "execution_count": 6,
      "outputs": [
        {
          "output_type": "stream",
          "name": "stdout",
          "text": [
            "0    b\n",
            "1    c\n",
            "2    d\n",
            "3    e\n",
            "dtype: object\n",
            "   a  b\n",
            "0  1  4\n",
            "1  2  5\n",
            "2  3  6\n"
          ]
        }
      ]
    },
    {
      "cell_type": "markdown",
      "source": [
        "- The axis labels are collectively called `index`. Pandas Series is nothing but a column in an excel sheet.\n",
        "- *Accessing element of Series*\n",
        "There are two ways through which we can access element of series, they are :\n",
        "  - Accessing Element from Series with Position\n",
        "  - Accessing Element Using Label (index)"
      ],
      "metadata": {
        "id": "SSeV8Tth2aio"
      }
    },
    {
      "cell_type": "code",
      "source": [
        "print(ser)"
      ],
      "metadata": {
        "colab": {
          "base_uri": "https://localhost:8080/"
        },
        "id": "lTHZvYqF1LIA",
        "outputId": "faeeec92-8abf-49c2-8cba-700164452491"
      },
      "execution_count": 7,
      "outputs": [
        {
          "output_type": "stream",
          "name": "stdout",
          "text": [
            "0    b\n",
            "1    c\n",
            "2    d\n",
            "3    e\n",
            "dtype: object\n"
          ]
        }
      ]
    },
    {
      "cell_type": "code",
      "source": [
        "ser[:3]"
      ],
      "metadata": {
        "colab": {
          "base_uri": "https://localhost:8080/",
          "height": 178
        },
        "id": "Kasm_vbT2b7-",
        "outputId": "6e397f69-af78-4b2f-d55a-dba26cf91a6a"
      },
      "execution_count": 8,
      "outputs": [
        {
          "output_type": "execute_result",
          "data": {
            "text/plain": [
              "0    b\n",
              "1    c\n",
              "2    d\n",
              "dtype: object"
            ],
            "text/html": [
              "<div>\n",
              "<style scoped>\n",
              "    .dataframe tbody tr th:only-of-type {\n",
              "        vertical-align: middle;\n",
              "    }\n",
              "\n",
              "    .dataframe tbody tr th {\n",
              "        vertical-align: top;\n",
              "    }\n",
              "\n",
              "    .dataframe thead th {\n",
              "        text-align: right;\n",
              "    }\n",
              "</style>\n",
              "<table border=\"1\" class=\"dataframe\">\n",
              "  <thead>\n",
              "    <tr style=\"text-align: right;\">\n",
              "      <th></th>\n",
              "      <th>0</th>\n",
              "    </tr>\n",
              "  </thead>\n",
              "  <tbody>\n",
              "    <tr>\n",
              "      <th>0</th>\n",
              "      <td>b</td>\n",
              "    </tr>\n",
              "    <tr>\n",
              "      <th>1</th>\n",
              "      <td>c</td>\n",
              "    </tr>\n",
              "    <tr>\n",
              "      <th>2</th>\n",
              "      <td>d</td>\n",
              "    </tr>\n",
              "  </tbody>\n",
              "</table>\n",
              "</div><br><label><b>dtype:</b> object</label>"
            ]
          },
          "metadata": {},
          "execution_count": 8
        }
      ]
    },
    {
      "cell_type": "code",
      "source": [
        "ser[3]"
      ],
      "metadata": {
        "colab": {
          "base_uri": "https://localhost:8080/",
          "height": 35
        },
        "id": "WyUJbjpj2xLl",
        "outputId": "1ac927b2-f610-43bc-8b45-4c80a5b322a7"
      },
      "execution_count": 9,
      "outputs": [
        {
          "output_type": "execute_result",
          "data": {
            "text/plain": [
              "'e'"
            ],
            "application/vnd.google.colaboratory.intrinsic+json": {
              "type": "string"
            }
          },
          "metadata": {},
          "execution_count": 9
        }
      ]
    },
    {
      "cell_type": "code",
      "source": [],
      "metadata": {
        "id": "eP-V1gwz21xj"
      },
      "execution_count": null,
      "outputs": []
    }
  ]
}