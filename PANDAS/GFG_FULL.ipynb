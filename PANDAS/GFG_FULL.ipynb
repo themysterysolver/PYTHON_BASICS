{
  "nbformat": 4,
  "nbformat_minor": 0,
  "metadata": {
    "colab": {
      "provenance": [],
      "authorship_tag": "ABX9TyPMYikHQg8QUHjEjghpr9lM",
      "include_colab_link": true
    },
    "kernelspec": {
      "name": "python3",
      "display_name": "Python 3"
    },
    "language_info": {
      "name": "python"
    }
  },
  "cells": [
    {
      "cell_type": "markdown",
      "metadata": {
        "id": "view-in-github",
        "colab_type": "text"
      },
      "source": [
        "<a href=\"https://colab.research.google.com/github/themysterysolver/PYTHON_BASICS/blob/main/PANDAS/GFG_FULL.ipynb\" target=\"_parent\"><img src=\"https://colab.research.google.com/assets/colab-badge.svg\" alt=\"Open In Colab\"/></a>"
      ]
    },
    {
      "cell_type": "markdown",
      "source": [
        "#PANDAS"
      ],
      "metadata": {
        "id": "HK-ZrLK1uE-v"
      }
    },
    {
      "cell_type": "markdown",
      "source": [
        "- It is built on top of the NumPy library which means that a lot of the structures of NumPy are used or replicated in Pandas.\n",
        "- The data produced by Pandas is often used as input for plotting functions in Matplotlib, statistical analysis in SciPy, and machine learning algorithms in Scikit-learn.\n",
        "- we can do using Pandas.\n",
        "  - Data set cleaning, merging, and joining.\n",
        "  - Easy handling of missing data (represented as NaN) in floating point as well as non-floating point data.\n",
        "  - Columns can be inserted and deleted from DataFrame and higher-dimensional objects.\n",
        "  - Powerful group by functionality for performing split-apply-combine operations on data sets.\n",
        "  - Data Visualization."
      ],
      "metadata": {
        "id": "JW0OjNNt0Ju9"
      }
    },
    {
      "cell_type": "markdown",
      "source": [
        "- Data Structures in Pandas Library\n",
        "Pandas generally provide two data structures for manipulating data. They are:\n",
        "  - Series\n",
        "  - DataFrame"
      ],
      "metadata": {
        "id": "_Z54cD7j0gWL"
      }
    },
    {
      "cell_type": "markdown",
      "source": [
        "- Pandas DataStructures is created by loading the datasets from existing storage (which can be a SQL database, a CSV file, or an Excel file).\n",
        "- Pandas DataStructures can be created from ***lists, dictionaries, a list of dictionaries***, etc."
      ],
      "metadata": {
        "id": "E5AqyZ-s1VuZ"
      }
    },
    {
      "cell_type": "code",
      "source": [
        "import pandas as pd\n",
        "import numpy as np"
      ],
      "metadata": {
        "id": "aWo6b2JlzCnJ"
      },
      "execution_count": 1,
      "outputs": []
    },
    {
      "cell_type": "code",
      "source": [
        "ser=pd.Series(np.array([chr(i+ord('a')) for i in range(1,5)]))\n",
        "print(ser)\n",
        "df=pd.DataFrame({'a':[1,2,3],'b':[4,5,6]})#len(row) should be equal for all rows\n",
        "print(df)"
      ],
      "metadata": {
        "colab": {
          "base_uri": "https://localhost:8080/"
        },
        "id": "fdeOCuXh02sQ",
        "outputId": "1184dff8-ec0c-41e4-b464-52ef13143754"
      },
      "execution_count": null,
      "outputs": [
        {
          "output_type": "stream",
          "name": "stdout",
          "text": [
            "0    b\n",
            "1    c\n",
            "2    d\n",
            "3    e\n",
            "dtype: object\n",
            "   a  b\n",
            "0  1  4\n",
            "1  2  5\n",
            "2  3  6\n"
          ]
        }
      ]
    },
    {
      "cell_type": "markdown",
      "source": [
        "- The axis labels are collectively called `index`. Pandas Series is nothing but a column in an excel sheet.\n",
        "- *Accessing element of Series*\n",
        "There are two ways through which we can access element of series, they are :\n",
        "  - Accessing Element from Series with Position\n",
        "  - Accessing Element Using Label (index)"
      ],
      "metadata": {
        "id": "SSeV8Tth2aio"
      }
    },
    {
      "cell_type": "code",
      "source": [
        "print(ser)"
      ],
      "metadata": {
        "colab": {
          "base_uri": "https://localhost:8080/"
        },
        "id": "lTHZvYqF1LIA",
        "outputId": "faeeec92-8abf-49c2-8cba-700164452491"
      },
      "execution_count": null,
      "outputs": [
        {
          "output_type": "stream",
          "name": "stdout",
          "text": [
            "0    b\n",
            "1    c\n",
            "2    d\n",
            "3    e\n",
            "dtype: object\n"
          ]
        }
      ]
    },
    {
      "cell_type": "code",
      "source": [
        "ser[:3]"
      ],
      "metadata": {
        "colab": {
          "base_uri": "https://localhost:8080/",
          "height": 178
        },
        "id": "Kasm_vbT2b7-",
        "outputId": "6e397f69-af78-4b2f-d55a-dba26cf91a6a"
      },
      "execution_count": null,
      "outputs": [
        {
          "output_type": "execute_result",
          "data": {
            "text/plain": [
              "0    b\n",
              "1    c\n",
              "2    d\n",
              "dtype: object"
            ],
            "text/html": [
              "<div>\n",
              "<style scoped>\n",
              "    .dataframe tbody tr th:only-of-type {\n",
              "        vertical-align: middle;\n",
              "    }\n",
              "\n",
              "    .dataframe tbody tr th {\n",
              "        vertical-align: top;\n",
              "    }\n",
              "\n",
              "    .dataframe thead th {\n",
              "        text-align: right;\n",
              "    }\n",
              "</style>\n",
              "<table border=\"1\" class=\"dataframe\">\n",
              "  <thead>\n",
              "    <tr style=\"text-align: right;\">\n",
              "      <th></th>\n",
              "      <th>0</th>\n",
              "    </tr>\n",
              "  </thead>\n",
              "  <tbody>\n",
              "    <tr>\n",
              "      <th>0</th>\n",
              "      <td>b</td>\n",
              "    </tr>\n",
              "    <tr>\n",
              "      <th>1</th>\n",
              "      <td>c</td>\n",
              "    </tr>\n",
              "    <tr>\n",
              "      <th>2</th>\n",
              "      <td>d</td>\n",
              "    </tr>\n",
              "  </tbody>\n",
              "</table>\n",
              "</div><br><label><b>dtype:</b> object</label>"
            ]
          },
          "metadata": {},
          "execution_count": 8
        }
      ]
    },
    {
      "cell_type": "code",
      "source": [
        "ser[3]#acessing via label"
      ],
      "metadata": {
        "colab": {
          "base_uri": "https://localhost:8080/",
          "height": 35
        },
        "id": "WyUJbjpj2xLl",
        "outputId": "1ac927b2-f610-43bc-8b45-4c80a5b322a7"
      },
      "execution_count": null,
      "outputs": [
        {
          "output_type": "execute_result",
          "data": {
            "text/plain": [
              "'e'"
            ],
            "application/vnd.google.colaboratory.intrinsic+json": {
              "type": "string"
            }
          },
          "metadata": {},
          "execution_count": 9
        }
      ]
    },
    {
      "cell_type": "code",
      "source": [
        "ser.index=([12,13,14,15])#changing label\n",
        "print(ser)"
      ],
      "metadata": {
        "colab": {
          "base_uri": "https://localhost:8080/"
        },
        "id": "eP-V1gwz21xj",
        "outputId": "5e306694-e764-46ac-864c-4c61ca6556e7"
      },
      "execution_count": null,
      "outputs": [
        {
          "output_type": "stream",
          "name": "stdout",
          "text": [
            "12    b\n",
            "13    c\n",
            "14    d\n",
            "15    e\n",
            "dtype: object\n"
          ]
        }
      ]
    },
    {
      "cell_type": "code",
      "source": [
        "print(ser[12])#acessing via label"
      ],
      "metadata": {
        "colab": {
          "base_uri": "https://localhost:8080/"
        },
        "id": "P8D7io-k3tIl",
        "outputId": "10eb7fc4-5e28-4f31-b9b3-454a8997c660"
      },
      "execution_count": null,
      "outputs": [
        {
          "output_type": "stream",
          "name": "stdout",
          "text": [
            "b\n",
            "12    b\n",
            "13    c\n",
            "dtype: object\n"
          ]
        }
      ]
    },
    {
      "cell_type": "markdown",
      "source": [
        "###Indexing\n",
        "- Indexing in pandas means simply selecting particular data from a Series.\n",
        "- Indexing could mean selecting all the data, some of the data from particular columns. Indexing can also be known as Subset Selection.\n",
        "---\n",
        "- Indexing operator is used to refer to the square brackets following an object.\n",
        "- The .loc and .iloc indexers also use the indexing operator to make selections. In this indexing operator to refer to df[ ]"
      ],
      "metadata": {
        "id": "hycHQ2dQ4l_G"
      }
    },
    {
      "cell_type": "code",
      "source": [
        "print(ser.loc[12:13]) #loc is used for label-based indexing. It allows you to access rows and columns by their labels or boolean arrays.\n",
        "print(ser.iloc[1:3]) #iloc is used for integer-location-based indexing. It selects data by position (integer indices)."
      ],
      "metadata": {
        "colab": {
          "base_uri": "https://localhost:8080/"
        },
        "id": "5VYgcQk94dJe",
        "outputId": "47c2ea70-7065-4876-8214-31b81d3ea089"
      },
      "execution_count": null,
      "outputs": [
        {
          "output_type": "stream",
          "name": "stdout",
          "text": [
            "12    b\n",
            "13    c\n",
            "dtype: object\n",
            "13    c\n",
            "14    d\n",
            "dtype: object\n"
          ]
        }
      ]
    },
    {
      "cell_type": "markdown",
      "source": [
        "## Binary Operation on Series\n",
        "- <series\\>.add(<series\\>)\n",
        "- <series\\>.sub(<series\\>)\n",
        "- `+,-,\\*,/,**` can also be used!\n",
        "---\n",
        "- Addition: add (+)\n",
        "- Subtraction: sub (-)\n",
        "- Multiplication: mul (*)\n",
        "- Division: div or truediv (/)\n",
        "- Floor Division: floordiv (//)\n",
        "- Modulus: mod (%)\n",
        "- Power: pow (**)\n",
        "- Equality: eq (==)\n",
        "- Not Equal: ne (!=)\n",
        "- Greater Than: gt (>)\n",
        "- Less Than: lt (<)\n",
        "- Greater Than or Equal: ge (>=)\n",
        "- Less Than or Equal: le (<=)\n",
        "- Logical AND: & (bitwise AND)\n",
        "- Logical OR: | (bitwise OR)\n",
        "- Logical XOR: ^ (bitwise XOR)\n",
        "- Logical NOT: ~ (bitwise NOT)\n"
      ],
      "metadata": {
        "id": "NRBTWh2f5zwa"
      }
    },
    {
      "cell_type": "markdown",
      "source": [
        "The `fill_value` parameter in pandas is used with binary operations to handle missing data (i.e., `NaN`(Not a number) values) by specifying a value to use instead of NaN during the operation. This can be particularly useful when performing operations between two Series or DataFrames with mismatched indices(label)."
      ],
      "metadata": {
        "id": "Q4Ay4e_O6ftE"
      }
    },
    {
      "cell_type": "code",
      "source": [
        "data1=pd.Series([1,2,3,4],index=['a','b','c','f'])\n",
        "data2=pd.Series([1,2,3,4],index=['a','b','d','e'])\n",
        "print(data1,'\\n',data2)"
      ],
      "metadata": {
        "colab": {
          "base_uri": "https://localhost:8080/"
        },
        "id": "Rzwzo_rZ5Q5z",
        "outputId": "6aa57771-1fef-4d7b-9e4e-357997e27a93"
      },
      "execution_count": null,
      "outputs": [
        {
          "output_type": "stream",
          "name": "stdout",
          "text": [
            "a    1\n",
            "b    2\n",
            "c    3\n",
            "f    4\n",
            "dtype: int64 \n",
            " a    1\n",
            "b    2\n",
            "d    3\n",
            "e    4\n",
            "dtype: int64\n"
          ]
        }
      ]
    },
    {
      "cell_type": "code",
      "source": [
        "print(data1+data2,type(data1+data2))\n",
        "print(data1.add(data2,fill_value=100))\n",
        "result=data1+data2\n",
        "result.fill_value=100\n",
        "print(result)"
      ],
      "metadata": {
        "colab": {
          "base_uri": "https://localhost:8080/"
        },
        "id": "doKRdqDt7O5O",
        "outputId": "2690a06c-ffdc-4c10-d201-07118d6d1f46"
      },
      "execution_count": null,
      "outputs": [
        {
          "output_type": "stream",
          "name": "stdout",
          "text": [
            "a    2.0\n",
            "b    4.0\n",
            "c    NaN\n",
            "d    NaN\n",
            "e    NaN\n",
            "f    NaN\n",
            "dtype: float64 <class 'pandas.core.series.Series'>\n",
            "a      2.0\n",
            "b      4.0\n",
            "c    103.0\n",
            "d    103.0\n",
            "e    104.0\n",
            "f    104.0\n",
            "dtype: float64\n",
            "a    2.0\n",
            "b    4.0\n",
            "c    NaN\n",
            "d    NaN\n",
            "e    NaN\n",
            "f    NaN\n",
            "dtype: float64\n"
          ]
        }
      ]
    },
    {
      "cell_type": "markdown",
      "source": [
        "## Conversion Operation on Series"
      ],
      "metadata": {
        "id": "RKmWdFU09LRa"
      }
    },
    {
      "cell_type": "markdown",
      "source": [
        "\n",
        "- In conversion operation we perform various operation like *changing datatype of series, changing a series to list* etc. In order to perform conversion operation we have various function which help in conversion like `.astype(), .tolist()` etc."
      ],
      "metadata": {
        "id": "RE5y_FvhdP5R"
      }
    },
    {
      "cell_type": "code",
      "source": [
        "df=pd.read_csv(\"student.csv\")\n",
        "print(df)"
      ],
      "metadata": {
        "id": "_KPjnqfk7VhY",
        "colab": {
          "base_uri": "https://localhost:8080/"
        },
        "outputId": "202cd4af-f120-413e-f6a0-ebc8791c6b87"
      },
      "execution_count": 6,
      "outputs": [
        {
          "output_type": "stream",
          "name": "stdout",
          "text": [
            "   StudentID      Name  Mathematics  Science   History  English  Geography\n",
            "0        101     Alice           85       89        90       88         92\n",
            "1        102       Bob           78       74        85      NaN         81\n",
            "2        103   Charlie           92       95        87       90        NaN\n",
            "3        104     Diana           88       91        93       85         89\n",
            "4        105     Ethan           76       80        82       78         85\n",
            "5        106     Fiona          NaN       88        84       82         86\n",
            "6        107    George           81      NaN        89       77         83\n"
          ]
        }
      ]
    },
    {
      "cell_type": "markdown",
      "source": [
        "- Functionality: dropna() returns a new DataFrame with missing values (NaN) removed. By default, it drops rows that contain any NaN values.\n",
        "   - Does not modify the original DataFrame unless you specify inplace=True.\n",
        "- Functionality: dropna(inplace=True) modifies the original DataFrame in place, removing rows with missing values (NaN).\n",
        "  -  No new DataFrame is created.\n",
        "  - The changes are directly applied to the original DataFrame."
      ],
      "metadata": {
        "id": "poar1_SPfnfV"
      }
    },
    {
      "cell_type": "code",
      "source": [
        "duplicate=df.copy() #The .copy() method in pandas creates a deep copy of a DataFrame or Series.\n",
        "d=duplicate.dropna()\n",
        "print(duplicate)\n",
        "print(d)\n",
        "duplicate.dropna(inplace=True)\n",
        "print(duplicate)"
      ],
      "metadata": {
        "colab": {
          "base_uri": "https://localhost:8080/"
        },
        "id": "5pRP_wnffK8n",
        "outputId": "3d3b56a2-9fae-4f6f-dbcc-a73f080954e9"
      },
      "execution_count": 16,
      "outputs": [
        {
          "output_type": "stream",
          "name": "stdout",
          "text": [
            "   StudentID      Name  Mathematics  Science   History  English  Geography\n",
            "0        101     Alice           85       89        90       88         92\n",
            "1        102       Bob           78       74        85      NaN         81\n",
            "2        103   Charlie           92       95        87       90        NaN\n",
            "3        104     Diana           88       91        93       85         89\n",
            "4        105     Ethan           76       80        82       78         85\n",
            "5        106     Fiona          NaN       88        84       82         86\n",
            "6        107    George           81      NaN        89       77         83\n",
            "   StudentID      Name  Mathematics  Science   History  English  Geography\n",
            "0        101     Alice           85       89        90       88         92\n",
            "1        102       Bob           78       74        85      NaN         81\n",
            "2        103   Charlie           92       95        87       90        NaN\n",
            "3        104     Diana           88       91        93       85         89\n",
            "4        105     Ethan           76       80        82       78         85\n",
            "5        106     Fiona          NaN       88        84       82         86\n",
            "6        107    George           81      NaN        89       77         83\n",
            "   StudentID      Name  Mathematics  Science   History  English  Geography\n",
            "0        101     Alice           85       89        90       88         92\n",
            "1        102       Bob           78       74        85      NaN         81\n",
            "2        103   Charlie           92       95        87       90        NaN\n",
            "3        104     Diana           88       91        93       85         89\n",
            "4        105     Ethan           76       80        82       78         85\n",
            "5        106     Fiona          NaN       88        84       82         86\n",
            "6        107    George           81      NaN        89       77         83\n"
          ]
        }
      ]
    },
    {
      "cell_type": "markdown",
      "source": [
        "\n",
        "The `strip()` method in Python is used to remove any leading and trailing whitespace characters (spaces, tabs, newlines, etc.) from a string. It does not modify the original string but returns a new string with the whitespace removed."
      ],
      "metadata": {
        "id": "CdAfeAclk6Ak"
      }
    },
    {
      "cell_type": "code",
      "source": [
        "print(d.columns)\n",
        "d.columns=d.columns.str.strip()\n",
        "d['History']\n",
        "print(type(d['History']))\n",
        "d['History']=d['History'].tolist()\n",
        "print(type(d['History']))"
      ],
      "metadata": {
        "colab": {
          "base_uri": "https://localhost:8080/"
        },
        "id": "APLtPEJOfRoN",
        "outputId": "3b6297c0-e4fc-47f1-9985-3f7222a918a7"
      },
      "execution_count": 18,
      "outputs": [
        {
          "output_type": "stream",
          "name": "stdout",
          "text": [
            "Index(['StudentID', ' Name', ' Mathematics', ' Science', ' History',\n",
            "       ' English', ' Geography'],\n",
            "      dtype='object')\n",
            "<class 'pandas.core.series.Series'>\n",
            "<class 'pandas.core.series.Series'>\n"
          ]
        }
      ]
    },
    {
      "cell_type": "code",
      "source": [],
      "metadata": {
        "id": "KSAQmHQnjzY4"
      },
      "execution_count": null,
      "outputs": []
    }
  ]
}