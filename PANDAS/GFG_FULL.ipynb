{
  "nbformat": 4,
  "nbformat_minor": 0,
  "metadata": {
    "colab": {
      "provenance": [],
      "authorship_tag": "ABX9TyPfYrRXlwj9bi9cISZTO8Cn",
      "include_colab_link": true
    },
    "kernelspec": {
      "name": "python3",
      "display_name": "Python 3"
    },
    "language_info": {
      "name": "python"
    }
  },
  "cells": [
    {
      "cell_type": "markdown",
      "metadata": {
        "id": "view-in-github",
        "colab_type": "text"
      },
      "source": [
        "<a href=\"https://colab.research.google.com/github/themysterysolver/PYTHON_BASICS/blob/main/PANDAS/GFG_FULL.ipynb\" target=\"_parent\"><img src=\"https://colab.research.google.com/assets/colab-badge.svg\" alt=\"Open In Colab\"/></a>"
      ]
    },
    {
      "cell_type": "markdown",
      "source": [
        "#PANDAS"
      ],
      "metadata": {
        "id": "HK-ZrLK1uE-v"
      }
    },
    {
      "cell_type": "markdown",
      "source": [
        "- It is built on top of the NumPy library which means that a lot of the structures of NumPy are used or replicated in Pandas.\n",
        "- The data produced by Pandas is often used as input for plotting functions in Matplotlib, statistical analysis in SciPy, and machine learning algorithms in Scikit-learn.\n",
        "- we can do using Pandas.\n",
        "  - Data set cleaning, merging, and joining.\n",
        "  - Easy handling of missing data (represented as NaN) in floating point as well as non-floating point data.\n",
        "  - Columns can be inserted and deleted from DataFrame and higher-dimensional objects.\n",
        "  - Powerful group by functionality for performing split-apply-combine operations on data sets.\n",
        "  - Data Visualization."
      ],
      "metadata": {
        "id": "JW0OjNNt0Ju9"
      }
    },
    {
      "cell_type": "markdown",
      "source": [
        "- Data Structures in Pandas Library\n",
        "Pandas generally provide two data structures for manipulating data. They are:\n",
        "  - Series\n",
        "  - DataFrame"
      ],
      "metadata": {
        "id": "_Z54cD7j0gWL"
      }
    },
    {
      "cell_type": "markdown",
      "source": [
        "- Pandas DataStructures is created by loading the datasets from existing storage (which can be a SQL database, a CSV file, or an Excel file).\n",
        "- Pandas DataStructures can be created from ***lists, dictionaries, a list of dictionaries***, etc."
      ],
      "metadata": {
        "id": "E5AqyZ-s1VuZ"
      }
    },
    {
      "cell_type": "code",
      "source": [
        "import pandas as pd\n",
        "import numpy as np"
      ],
      "metadata": {
        "id": "aWo6b2JlzCnJ"
      },
      "execution_count": 2,
      "outputs": []
    },
    {
      "cell_type": "code",
      "source": [
        "ser=pd.Series(np.array([chr(i+ord('a')) for i in range(1,5)]))\n",
        "print(ser)\n",
        "df=pd.DataFrame({'a':[1,2,3],'b':[4,5,6]})#len(row) should be equal for all rows\n",
        "print(df)"
      ],
      "metadata": {
        "colab": {
          "base_uri": "https://localhost:8080/"
        },
        "id": "fdeOCuXh02sQ",
        "outputId": "1184dff8-ec0c-41e4-b464-52ef13143754"
      },
      "execution_count": null,
      "outputs": [
        {
          "output_type": "stream",
          "name": "stdout",
          "text": [
            "0    b\n",
            "1    c\n",
            "2    d\n",
            "3    e\n",
            "dtype: object\n",
            "   a  b\n",
            "0  1  4\n",
            "1  2  5\n",
            "2  3  6\n"
          ]
        }
      ]
    },
    {
      "cell_type": "markdown",
      "source": [
        "- The axis labels are collectively called `index`. Pandas Series is nothing but a column in an excel sheet.\n",
        "- *Accessing element of Series*\n",
        "There are two ways through which we can access element of series, they are :\n",
        "  - Accessing Element from Series with Position\n",
        "  - Accessing Element Using Label (index)"
      ],
      "metadata": {
        "id": "SSeV8Tth2aio"
      }
    },
    {
      "cell_type": "code",
      "source": [
        "print(ser)"
      ],
      "metadata": {
        "colab": {
          "base_uri": "https://localhost:8080/"
        },
        "id": "lTHZvYqF1LIA",
        "outputId": "faeeec92-8abf-49c2-8cba-700164452491"
      },
      "execution_count": null,
      "outputs": [
        {
          "output_type": "stream",
          "name": "stdout",
          "text": [
            "0    b\n",
            "1    c\n",
            "2    d\n",
            "3    e\n",
            "dtype: object\n"
          ]
        }
      ]
    },
    {
      "cell_type": "code",
      "source": [
        "ser[:3]"
      ],
      "metadata": {
        "colab": {
          "base_uri": "https://localhost:8080/",
          "height": 178
        },
        "id": "Kasm_vbT2b7-",
        "outputId": "6e397f69-af78-4b2f-d55a-dba26cf91a6a"
      },
      "execution_count": null,
      "outputs": [
        {
          "output_type": "execute_result",
          "data": {
            "text/plain": [
              "0    b\n",
              "1    c\n",
              "2    d\n",
              "dtype: object"
            ],
            "text/html": [
              "<div>\n",
              "<style scoped>\n",
              "    .dataframe tbody tr th:only-of-type {\n",
              "        vertical-align: middle;\n",
              "    }\n",
              "\n",
              "    .dataframe tbody tr th {\n",
              "        vertical-align: top;\n",
              "    }\n",
              "\n",
              "    .dataframe thead th {\n",
              "        text-align: right;\n",
              "    }\n",
              "</style>\n",
              "<table border=\"1\" class=\"dataframe\">\n",
              "  <thead>\n",
              "    <tr style=\"text-align: right;\">\n",
              "      <th></th>\n",
              "      <th>0</th>\n",
              "    </tr>\n",
              "  </thead>\n",
              "  <tbody>\n",
              "    <tr>\n",
              "      <th>0</th>\n",
              "      <td>b</td>\n",
              "    </tr>\n",
              "    <tr>\n",
              "      <th>1</th>\n",
              "      <td>c</td>\n",
              "    </tr>\n",
              "    <tr>\n",
              "      <th>2</th>\n",
              "      <td>d</td>\n",
              "    </tr>\n",
              "  </tbody>\n",
              "</table>\n",
              "</div><br><label><b>dtype:</b> object</label>"
            ]
          },
          "metadata": {},
          "execution_count": 8
        }
      ]
    },
    {
      "cell_type": "code",
      "source": [
        "ser[3]#acessing via label"
      ],
      "metadata": {
        "colab": {
          "base_uri": "https://localhost:8080/",
          "height": 35
        },
        "id": "WyUJbjpj2xLl",
        "outputId": "1ac927b2-f610-43bc-8b45-4c80a5b322a7"
      },
      "execution_count": null,
      "outputs": [
        {
          "output_type": "execute_result",
          "data": {
            "text/plain": [
              "'e'"
            ],
            "application/vnd.google.colaboratory.intrinsic+json": {
              "type": "string"
            }
          },
          "metadata": {},
          "execution_count": 9
        }
      ]
    },
    {
      "cell_type": "code",
      "source": [
        "ser.index=([12,13,14,15])#changing label\n",
        "print(ser)"
      ],
      "metadata": {
        "colab": {
          "base_uri": "https://localhost:8080/"
        },
        "id": "eP-V1gwz21xj",
        "outputId": "5e306694-e764-46ac-864c-4c61ca6556e7"
      },
      "execution_count": null,
      "outputs": [
        {
          "output_type": "stream",
          "name": "stdout",
          "text": [
            "12    b\n",
            "13    c\n",
            "14    d\n",
            "15    e\n",
            "dtype: object\n"
          ]
        }
      ]
    },
    {
      "cell_type": "code",
      "source": [
        "print(ser[12])#acessing via label"
      ],
      "metadata": {
        "colab": {
          "base_uri": "https://localhost:8080/"
        },
        "id": "P8D7io-k3tIl",
        "outputId": "10eb7fc4-5e28-4f31-b9b3-454a8997c660"
      },
      "execution_count": null,
      "outputs": [
        {
          "output_type": "stream",
          "name": "stdout",
          "text": [
            "b\n",
            "12    b\n",
            "13    c\n",
            "dtype: object\n"
          ]
        }
      ]
    },
    {
      "cell_type": "markdown",
      "source": [
        "###Indexing\n",
        "- Indexing in pandas means simply selecting particular data from a Series.\n",
        "- Indexing could mean selecting all the data, some of the data from particular columns. Indexing can also be known as Subset Selection.\n",
        "---\n",
        "- Indexing operator is used to refer to the square brackets following an object.\n",
        "- The .loc and .iloc indexers also use the indexing operator to make selections. In this indexing operator to refer to df[ ]"
      ],
      "metadata": {
        "id": "hycHQ2dQ4l_G"
      }
    },
    {
      "cell_type": "code",
      "source": [
        "print(ser.loc[12:13]) #loc is used for label-based indexing. It allows you to access rows and columns by their labels or boolean arrays.\n",
        "print(ser.iloc[1:3]) #iloc is used for integer-location-based indexing. It selects data by position (integer indices)."
      ],
      "metadata": {
        "colab": {
          "base_uri": "https://localhost:8080/"
        },
        "id": "5VYgcQk94dJe",
        "outputId": "47c2ea70-7065-4876-8214-31b81d3ea089"
      },
      "execution_count": null,
      "outputs": [
        {
          "output_type": "stream",
          "name": "stdout",
          "text": [
            "12    b\n",
            "13    c\n",
            "dtype: object\n",
            "13    c\n",
            "14    d\n",
            "dtype: object\n"
          ]
        }
      ]
    },
    {
      "cell_type": "markdown",
      "source": [
        "## Binary Operation on Series\n",
        "- <series\\>.add(<series\\>)\n",
        "- <series\\>.sub(<series\\>)\n",
        "- `+,-,\\*,/,**` can also be used!\n",
        "---\n",
        "- Addition: add (+)\n",
        "- Subtraction: sub (-)\n",
        "- Multiplication: mul (*)\n",
        "- Division: div or truediv (/)\n",
        "- Floor Division: floordiv (//)\n",
        "- Modulus: mod (%)\n",
        "- Power: pow (**)\n",
        "- Equality: eq (==)\n",
        "- Not Equal: ne (!=)\n",
        "- Greater Than: gt (>)\n",
        "- Less Than: lt (<)\n",
        "- Greater Than or Equal: ge (>=)\n",
        "- Less Than or Equal: le (<=)\n",
        "- Logical AND: & (bitwise AND)\n",
        "- Logical OR: | (bitwise OR)\n",
        "- Logical XOR: ^ (bitwise XOR)\n",
        "- Logical NOT: ~ (bitwise NOT)\n"
      ],
      "metadata": {
        "id": "NRBTWh2f5zwa"
      }
    },
    {
      "cell_type": "markdown",
      "source": [
        "The `fill_value` parameter in pandas is used with binary operations to handle missing data (i.e., `NaN`(Not a number) values) by specifying a value to use instead of NaN during the operation. This can be particularly useful when performing operations between two Series or DataFrames with mismatched indices(label)."
      ],
      "metadata": {
        "id": "Q4Ay4e_O6ftE"
      }
    },
    {
      "cell_type": "code",
      "source": [
        "data1=pd.Series([1,2,3,4],index=['a','b','c','f'])\n",
        "data2=pd.Series([1,2,3,4],index=['a','b','d','e'])\n",
        "print(data1,'\\n',data2)"
      ],
      "metadata": {
        "colab": {
          "base_uri": "https://localhost:8080/"
        },
        "id": "Rzwzo_rZ5Q5z",
        "outputId": "6aa57771-1fef-4d7b-9e4e-357997e27a93"
      },
      "execution_count": null,
      "outputs": [
        {
          "output_type": "stream",
          "name": "stdout",
          "text": [
            "a    1\n",
            "b    2\n",
            "c    3\n",
            "f    4\n",
            "dtype: int64 \n",
            " a    1\n",
            "b    2\n",
            "d    3\n",
            "e    4\n",
            "dtype: int64\n"
          ]
        }
      ]
    },
    {
      "cell_type": "code",
      "source": [
        "print(data1+data2,type(data1+data2))\n",
        "print(data1.add(data2,fill_value=100))\n",
        "result=data1+data2\n",
        "result.fill_value=100\n",
        "print(result)"
      ],
      "metadata": {
        "colab": {
          "base_uri": "https://localhost:8080/"
        },
        "id": "doKRdqDt7O5O",
        "outputId": "2690a06c-ffdc-4c10-d201-07118d6d1f46"
      },
      "execution_count": null,
      "outputs": [
        {
          "output_type": "stream",
          "name": "stdout",
          "text": [
            "a    2.0\n",
            "b    4.0\n",
            "c    NaN\n",
            "d    NaN\n",
            "e    NaN\n",
            "f    NaN\n",
            "dtype: float64 <class 'pandas.core.series.Series'>\n",
            "a      2.0\n",
            "b      4.0\n",
            "c    103.0\n",
            "d    103.0\n",
            "e    104.0\n",
            "f    104.0\n",
            "dtype: float64\n",
            "a    2.0\n",
            "b    4.0\n",
            "c    NaN\n",
            "d    NaN\n",
            "e    NaN\n",
            "f    NaN\n",
            "dtype: float64\n"
          ]
        }
      ]
    },
    {
      "cell_type": "markdown",
      "source": [
        "## Conversion Operation on Series"
      ],
      "metadata": {
        "id": "RKmWdFU09LRa"
      }
    },
    {
      "cell_type": "markdown",
      "source": [
        "\n",
        "- In conversion operation we perform various operation like *changing datatype of series, changing a series to list* etc. In order to perform conversion operation we have various function which help in conversion like `.astype(), .tolist()` etc."
      ],
      "metadata": {
        "id": "RE5y_FvhdP5R"
      }
    },
    {
      "cell_type": "code",
      "source": [
        "df=pd.DataFrame({\n",
        "    'StudentID': [101, 102, 103, 104, 105, 106, 107],\n",
        "    'Name': ['Alice', 'Bob', 'Charlie', 'Diana', 'Ethan', 'Fiona', 'George'],\n",
        "    'Mathematics': [85, 78, 92, 88, 76, np.nan, 81],\n",
        "    'Science': [89, 74, 95, 91, 80, 88, np.nan],\n",
        "    'History': [90, 85, 87, 93, 82, 84, 89],\n",
        "    'English': [88, np.nan, 90, 85, 78, 82, 77],\n",
        "    'Geography': [92, 81, np.nan, 89, 85, 86, 83]\n",
        "})\n",
        "print(df)\n"
      ],
      "metadata": {
        "id": "_KPjnqfk7VhY",
        "colab": {
          "base_uri": "https://localhost:8080/"
        },
        "outputId": "99421c0d-2b33-4e3d-c947-517d157e0824"
      },
      "execution_count": 36,
      "outputs": [
        {
          "output_type": "stream",
          "name": "stdout",
          "text": [
            "   StudentID     Name  Mathematics  Science  History  English  Geography\n",
            "0        101    Alice         85.0     89.0       90     88.0       92.0\n",
            "1        102      Bob         78.0     74.0       85      NaN       81.0\n",
            "2        103  Charlie         92.0     95.0       87     90.0        NaN\n",
            "3        104    Diana         88.0     91.0       93     85.0       89.0\n",
            "4        105    Ethan         76.0     80.0       82     78.0       85.0\n",
            "5        106    Fiona          NaN     88.0       84     82.0       86.0\n",
            "6        107   George         81.0      NaN       89     77.0       83.0\n"
          ]
        }
      ]
    },
    {
      "cell_type": "markdown",
      "source": [
        "- Functionality: dropna() returns a new DataFrame with missing values (NaN) removed. By default, it drops rows that contain any NaN values.\n",
        "   - Does not modify the original DataFrame unless you specify inplace=True.\n",
        "- Functionality: dropna(inplace=True) modifies the original DataFrame in place, removing rows with missing values (NaN).\n",
        "  -  No new DataFrame is created.\n",
        "  - The changes are directly applied to the original DataFrame."
      ],
      "metadata": {
        "id": "poar1_SPfnfV"
      }
    },
    {
      "cell_type": "code",
      "source": [
        "duplicate=df.copy() #The .copy() method in pandas creates a deep copy of a DataFrame or Series.\n",
        "d=duplicate.dropna()\n",
        "print(duplicate)\n",
        "print(d)\n",
        "duplicate.dropna(inplace=True)\n",
        "print(duplicate)"
      ],
      "metadata": {
        "colab": {
          "base_uri": "https://localhost:8080/"
        },
        "id": "5pRP_wnffK8n",
        "outputId": "0bbed19f-8c93-4222-9482-c61595441211"
      },
      "execution_count": 15,
      "outputs": [
        {
          "output_type": "stream",
          "name": "stdout",
          "text": [
            "   StudentID     Name  Mathematics  Science  History  English  Geography\n",
            "0        101    Alice         85.0     89.0       90     88.0       92.0\n",
            "1        102      Bob         78.0     74.0       85      NaN       81.0\n",
            "2        103  Charlie         92.0     95.0       87     90.0        NaN\n",
            "3        104    Diana         88.0     91.0       93     85.0       89.0\n",
            "4        105    Ethan         76.0     80.0       82     78.0       85.0\n",
            "5        106    Fiona          NaN     88.0       84     82.0       86.0\n",
            "6        107   George         81.0      NaN       89     77.0       83.0\n",
            "   StudentID   Name  Mathematics  Science  History  English  Geography\n",
            "0        101  Alice         85.0     89.0       90     88.0       92.0\n",
            "3        104  Diana         88.0     91.0       93     85.0       89.0\n",
            "4        105  Ethan         76.0     80.0       82     78.0       85.0\n",
            "   StudentID   Name  Mathematics  Science  History  English  Geography\n",
            "0        101  Alice         85.0     89.0       90     88.0       92.0\n",
            "3        104  Diana         88.0     91.0       93     85.0       89.0\n",
            "4        105  Ethan         76.0     80.0       82     78.0       85.0\n"
          ]
        }
      ]
    },
    {
      "cell_type": "markdown",
      "source": [
        "- The `isna()` method in pandas is used to detect missing values in a DataFrame or Series. It returns a DataFrame or Series of the same shape, where each element is a Boolean value: True if the value is NaN (Not a Number), and False otherwise."
      ],
      "metadata": {
        "id": "BvrxfkzFxsVy"
      }
    },
    {
      "cell_type": "code",
      "source": [
        "print(df.isna(),'\\n',df.isna().sum(),'\\n',df.isna().sum().sum())"
      ],
      "metadata": {
        "id": "9qMpnG7LtGiz",
        "outputId": "373976dc-6b64-4cc6-c79d-9cc0002d792e",
        "colab": {
          "base_uri": "https://localhost:8080/"
        }
      },
      "execution_count": 23,
      "outputs": [
        {
          "output_type": "stream",
          "name": "stdout",
          "text": [
            "   StudentID   Name  Mathematics  Science  History  English  Geography\n",
            "0      False  False        False    False    False    False      False\n",
            "1      False  False        False    False    False     True      False\n",
            "2      False  False        False    False    False    False       True\n",
            "3      False  False        False    False    False    False      False\n",
            "4      False  False        False    False    False    False      False\n",
            "5      False  False         True    False    False    False      False\n",
            "6      False  False        False     True    False    False      False \n",
            " StudentID      0\n",
            "Name           0\n",
            "Mathematics    1\n",
            "Science        1\n",
            "History        0\n",
            "English        1\n",
            "Geography      1\n",
            "dtype: int64 \n",
            " 4\n"
          ]
        }
      ]
    },
    {
      "cell_type": "markdown",
      "source": [
        "\n",
        "The `strip()` method in Python is used to remove any leading and trailing whitespace characters (spaces, tabs, newlines, etc.) from a string. It does not modify the original string but returns a new string with the whitespace removed."
      ],
      "metadata": {
        "id": "CdAfeAclk6Ak"
      }
    },
    {
      "cell_type": "code",
      "source": [
        "print(d.columns)\n",
        "d.columns=d.columns.str.strip()\n",
        "print(type(d['History']))\n",
        "d['History']=d['History'].tolist()\n",
        "print(type(d['History']))"
      ],
      "metadata": {
        "colab": {
          "base_uri": "https://localhost:8080/"
        },
        "id": "APLtPEJOfRoN",
        "outputId": "b7c7a86a-8c06-4e60-8bc1-65c06d6cd91f"
      },
      "execution_count": 27,
      "outputs": [
        {
          "output_type": "stream",
          "name": "stdout",
          "text": [
            "Index(['StudentID', 'Name', 'Mathematics', 'Science', 'History', 'English',\n",
            "       'Geography'],\n",
            "      dtype='object')\n",
            "<class 'pandas.core.series.Series'>\n",
            "<class 'pandas.core.series.Series'>\n"
          ]
        }
      ]
    },
    {
      "cell_type": "markdown",
      "source": [
        "- `count()`\tReturns number of ***non***-NA/null observations in the Series\n",
        "- `size()`\tReturns the number of elements in the underlying data"
      ],
      "metadata": {
        "id": "DpCZBgQlsIhX"
      }
    },
    {
      "cell_type": "code",
      "source": [
        "print(d['Science'].count())"
      ],
      "metadata": {
        "id": "5AUVsddvsC_K",
        "outputId": "861cbf55-b4b1-4719-9a0c-c4f778237493",
        "colab": {
          "base_uri": "https://localhost:8080/"
        }
      },
      "execution_count": 26,
      "outputs": [
        {
          "output_type": "stream",
          "name": "stdout",
          "text": [
            "3\n"
          ]
        }
      ]
    },
    {
      "cell_type": "markdown",
      "source": [
        "## axis\n",
        "- `axis=0` (default): This means the operation will be performed along the rows, i.e., ***column-wise***.\n",
        "- `axis=1`: This means the operation will be performed along the columns, i.e., ***row-wise***."
      ],
      "metadata": {
        "id": "6W14d6VFyBB-"
      }
    },
    {
      "cell_type": "code",
      "source": [
        "df = df.fillna(0)\n",
        "print(df,type(df))\n",
        "print(df.count())"
      ],
      "metadata": {
        "id": "KSAQmHQnjzY4",
        "outputId": "75c135b0-e76a-4320-9b64-9aac2ddac5b9",
        "colab": {
          "base_uri": "https://localhost:8080/"
        }
      },
      "execution_count": 38,
      "outputs": [
        {
          "output_type": "stream",
          "name": "stdout",
          "text": [
            "   StudentID     Name  Mathematics  Science  History  English  Geography\n",
            "0        101    Alice         85.0     89.0       90     88.0       92.0\n",
            "1        102      Bob         78.0     74.0       85      0.0       81.0\n",
            "2        103  Charlie         92.0     95.0       87     90.0        0.0\n",
            "3        104    Diana         88.0     91.0       93     85.0       89.0\n",
            "4        105    Ethan         76.0     80.0       82     78.0       85.0\n",
            "5        106    Fiona          0.0     88.0       84     82.0       86.0\n",
            "6        107   George         81.0      0.0       89     77.0       83.0 <class 'pandas.core.frame.DataFrame'>\n",
            "StudentID      7\n",
            "Name           7\n",
            "Mathematics    7\n",
            "Science        7\n",
            "History        7\n",
            "English        7\n",
            "Geography      7\n",
            "dtype: int64\n"
          ]
        }
      ]
    },
    {
      "cell_type": "code",
      "source": [
        "print(df)"
      ],
      "metadata": {
        "id": "C_7Ag8ESywL0",
        "outputId": "737ada03-dae7-44c8-afc6-0557903b1cb5",
        "colab": {
          "base_uri": "https://localhost:8080/"
        }
      },
      "execution_count": 29,
      "outputs": [
        {
          "output_type": "stream",
          "name": "stdout",
          "text": [
            "   StudentID     Name  Mathematics  Science  History  English  Geography\n",
            "0        101    Alice         85.0     89.0       90     88.0       92.0\n",
            "1        102      Bob         78.0     74.0       85      NaN       81.0\n",
            "2        103  Charlie         92.0     95.0       87     90.0        NaN\n",
            "3        104    Diana         88.0     91.0       93     85.0       89.0\n",
            "4        105    Ethan         76.0     80.0       82     78.0       85.0\n",
            "5        106    Fiona          NaN     88.0       84     82.0       86.0\n",
            "6        107   George         81.0      NaN       89     77.0       83.0\n"
          ]
        }
      ]
    },
    {
      "cell_type": "code",
      "source": [
        "df.head()"
      ],
      "metadata": {
        "id": "ryv1_A7IyxbT",
        "outputId": "1b1c8d24-05ae-4a11-a51a-f026657d3857",
        "colab": {
          "base_uri": "https://localhost:8080/",
          "height": 206
        }
      },
      "execution_count": 39,
      "outputs": [
        {
          "output_type": "execute_result",
          "data": {
            "text/plain": [
              "   StudentID     Name  Mathematics  Science  History  English  Geography\n",
              "0        101    Alice         85.0     89.0       90     88.0       92.0\n",
              "1        102      Bob         78.0     74.0       85      0.0       81.0\n",
              "2        103  Charlie         92.0     95.0       87     90.0        0.0\n",
              "3        104    Diana         88.0     91.0       93     85.0       89.0\n",
              "4        105    Ethan         76.0     80.0       82     78.0       85.0"
            ],
            "text/html": [
              "\n",
              "  <div id=\"df-09fe55c6-7bb1-44a6-b1cd-6364868625de\" class=\"colab-df-container\">\n",
              "    <div>\n",
              "<style scoped>\n",
              "    .dataframe tbody tr th:only-of-type {\n",
              "        vertical-align: middle;\n",
              "    }\n",
              "\n",
              "    .dataframe tbody tr th {\n",
              "        vertical-align: top;\n",
              "    }\n",
              "\n",
              "    .dataframe thead th {\n",
              "        text-align: right;\n",
              "    }\n",
              "</style>\n",
              "<table border=\"1\" class=\"dataframe\">\n",
              "  <thead>\n",
              "    <tr style=\"text-align: right;\">\n",
              "      <th></th>\n",
              "      <th>StudentID</th>\n",
              "      <th>Name</th>\n",
              "      <th>Mathematics</th>\n",
              "      <th>Science</th>\n",
              "      <th>History</th>\n",
              "      <th>English</th>\n",
              "      <th>Geography</th>\n",
              "    </tr>\n",
              "  </thead>\n",
              "  <tbody>\n",
              "    <tr>\n",
              "      <th>0</th>\n",
              "      <td>101</td>\n",
              "      <td>Alice</td>\n",
              "      <td>85.0</td>\n",
              "      <td>89.0</td>\n",
              "      <td>90</td>\n",
              "      <td>88.0</td>\n",
              "      <td>92.0</td>\n",
              "    </tr>\n",
              "    <tr>\n",
              "      <th>1</th>\n",
              "      <td>102</td>\n",
              "      <td>Bob</td>\n",
              "      <td>78.0</td>\n",
              "      <td>74.0</td>\n",
              "      <td>85</td>\n",
              "      <td>0.0</td>\n",
              "      <td>81.0</td>\n",
              "    </tr>\n",
              "    <tr>\n",
              "      <th>2</th>\n",
              "      <td>103</td>\n",
              "      <td>Charlie</td>\n",
              "      <td>92.0</td>\n",
              "      <td>95.0</td>\n",
              "      <td>87</td>\n",
              "      <td>90.0</td>\n",
              "      <td>0.0</td>\n",
              "    </tr>\n",
              "    <tr>\n",
              "      <th>3</th>\n",
              "      <td>104</td>\n",
              "      <td>Diana</td>\n",
              "      <td>88.0</td>\n",
              "      <td>91.0</td>\n",
              "      <td>93</td>\n",
              "      <td>85.0</td>\n",
              "      <td>89.0</td>\n",
              "    </tr>\n",
              "    <tr>\n",
              "      <th>4</th>\n",
              "      <td>105</td>\n",
              "      <td>Ethan</td>\n",
              "      <td>76.0</td>\n",
              "      <td>80.0</td>\n",
              "      <td>82</td>\n",
              "      <td>78.0</td>\n",
              "      <td>85.0</td>\n",
              "    </tr>\n",
              "  </tbody>\n",
              "</table>\n",
              "</div>\n",
              "    <div class=\"colab-df-buttons\">\n",
              "\n",
              "  <div class=\"colab-df-container\">\n",
              "    <button class=\"colab-df-convert\" onclick=\"convertToInteractive('df-09fe55c6-7bb1-44a6-b1cd-6364868625de')\"\n",
              "            title=\"Convert this dataframe to an interactive table.\"\n",
              "            style=\"display:none;\">\n",
              "\n",
              "  <svg xmlns=\"http://www.w3.org/2000/svg\" height=\"24px\" viewBox=\"0 -960 960 960\">\n",
              "    <path d=\"M120-120v-720h720v720H120Zm60-500h600v-160H180v160Zm220 220h160v-160H400v160Zm0 220h160v-160H400v160ZM180-400h160v-160H180v160Zm440 0h160v-160H620v160ZM180-180h160v-160H180v160Zm440 0h160v-160H620v160Z\"/>\n",
              "  </svg>\n",
              "    </button>\n",
              "\n",
              "  <style>\n",
              "    .colab-df-container {\n",
              "      display:flex;\n",
              "      gap: 12px;\n",
              "    }\n",
              "\n",
              "    .colab-df-convert {\n",
              "      background-color: #E8F0FE;\n",
              "      border: none;\n",
              "      border-radius: 50%;\n",
              "      cursor: pointer;\n",
              "      display: none;\n",
              "      fill: #1967D2;\n",
              "      height: 32px;\n",
              "      padding: 0 0 0 0;\n",
              "      width: 32px;\n",
              "    }\n",
              "\n",
              "    .colab-df-convert:hover {\n",
              "      background-color: #E2EBFA;\n",
              "      box-shadow: 0px 1px 2px rgba(60, 64, 67, 0.3), 0px 1px 3px 1px rgba(60, 64, 67, 0.15);\n",
              "      fill: #174EA6;\n",
              "    }\n",
              "\n",
              "    .colab-df-buttons div {\n",
              "      margin-bottom: 4px;\n",
              "    }\n",
              "\n",
              "    [theme=dark] .colab-df-convert {\n",
              "      background-color: #3B4455;\n",
              "      fill: #D2E3FC;\n",
              "    }\n",
              "\n",
              "    [theme=dark] .colab-df-convert:hover {\n",
              "      background-color: #434B5C;\n",
              "      box-shadow: 0px 1px 3px 1px rgba(0, 0, 0, 0.15);\n",
              "      filter: drop-shadow(0px 1px 2px rgba(0, 0, 0, 0.3));\n",
              "      fill: #FFFFFF;\n",
              "    }\n",
              "  </style>\n",
              "\n",
              "    <script>\n",
              "      const buttonEl =\n",
              "        document.querySelector('#df-09fe55c6-7bb1-44a6-b1cd-6364868625de button.colab-df-convert');\n",
              "      buttonEl.style.display =\n",
              "        google.colab.kernel.accessAllowed ? 'block' : 'none';\n",
              "\n",
              "      async function convertToInteractive(key) {\n",
              "        const element = document.querySelector('#df-09fe55c6-7bb1-44a6-b1cd-6364868625de');\n",
              "        const dataTable =\n",
              "          await google.colab.kernel.invokeFunction('convertToInteractive',\n",
              "                                                    [key], {});\n",
              "        if (!dataTable) return;\n",
              "\n",
              "        const docLinkHtml = 'Like what you see? Visit the ' +\n",
              "          '<a target=\"_blank\" href=https://colab.research.google.com/notebooks/data_table.ipynb>data table notebook</a>'\n",
              "          + ' to learn more about interactive tables.';\n",
              "        element.innerHTML = '';\n",
              "        dataTable['output_type'] = 'display_data';\n",
              "        await google.colab.output.renderOutput(dataTable, element);\n",
              "        const docLink = document.createElement('div');\n",
              "        docLink.innerHTML = docLinkHtml;\n",
              "        element.appendChild(docLink);\n",
              "      }\n",
              "    </script>\n",
              "  </div>\n",
              "\n",
              "\n",
              "<div id=\"df-45df7731-d746-4b8c-8c66-ceb7b8c39973\">\n",
              "  <button class=\"colab-df-quickchart\" onclick=\"quickchart('df-45df7731-d746-4b8c-8c66-ceb7b8c39973')\"\n",
              "            title=\"Suggest charts\"\n",
              "            style=\"display:none;\">\n",
              "\n",
              "<svg xmlns=\"http://www.w3.org/2000/svg\" height=\"24px\"viewBox=\"0 0 24 24\"\n",
              "     width=\"24px\">\n",
              "    <g>\n",
              "        <path d=\"M19 3H5c-1.1 0-2 .9-2 2v14c0 1.1.9 2 2 2h14c1.1 0 2-.9 2-2V5c0-1.1-.9-2-2-2zM9 17H7v-7h2v7zm4 0h-2V7h2v10zm4 0h-2v-4h2v4z\"/>\n",
              "    </g>\n",
              "</svg>\n",
              "  </button>\n",
              "\n",
              "<style>\n",
              "  .colab-df-quickchart {\n",
              "      --bg-color: #E8F0FE;\n",
              "      --fill-color: #1967D2;\n",
              "      --hover-bg-color: #E2EBFA;\n",
              "      --hover-fill-color: #174EA6;\n",
              "      --disabled-fill-color: #AAA;\n",
              "      --disabled-bg-color: #DDD;\n",
              "  }\n",
              "\n",
              "  [theme=dark] .colab-df-quickchart {\n",
              "      --bg-color: #3B4455;\n",
              "      --fill-color: #D2E3FC;\n",
              "      --hover-bg-color: #434B5C;\n",
              "      --hover-fill-color: #FFFFFF;\n",
              "      --disabled-bg-color: #3B4455;\n",
              "      --disabled-fill-color: #666;\n",
              "  }\n",
              "\n",
              "  .colab-df-quickchart {\n",
              "    background-color: var(--bg-color);\n",
              "    border: none;\n",
              "    border-radius: 50%;\n",
              "    cursor: pointer;\n",
              "    display: none;\n",
              "    fill: var(--fill-color);\n",
              "    height: 32px;\n",
              "    padding: 0;\n",
              "    width: 32px;\n",
              "  }\n",
              "\n",
              "  .colab-df-quickchart:hover {\n",
              "    background-color: var(--hover-bg-color);\n",
              "    box-shadow: 0 1px 2px rgba(60, 64, 67, 0.3), 0 1px 3px 1px rgba(60, 64, 67, 0.15);\n",
              "    fill: var(--button-hover-fill-color);\n",
              "  }\n",
              "\n",
              "  .colab-df-quickchart-complete:disabled,\n",
              "  .colab-df-quickchart-complete:disabled:hover {\n",
              "    background-color: var(--disabled-bg-color);\n",
              "    fill: var(--disabled-fill-color);\n",
              "    box-shadow: none;\n",
              "  }\n",
              "\n",
              "  .colab-df-spinner {\n",
              "    border: 2px solid var(--fill-color);\n",
              "    border-color: transparent;\n",
              "    border-bottom-color: var(--fill-color);\n",
              "    animation:\n",
              "      spin 1s steps(1) infinite;\n",
              "  }\n",
              "\n",
              "  @keyframes spin {\n",
              "    0% {\n",
              "      border-color: transparent;\n",
              "      border-bottom-color: var(--fill-color);\n",
              "      border-left-color: var(--fill-color);\n",
              "    }\n",
              "    20% {\n",
              "      border-color: transparent;\n",
              "      border-left-color: var(--fill-color);\n",
              "      border-top-color: var(--fill-color);\n",
              "    }\n",
              "    30% {\n",
              "      border-color: transparent;\n",
              "      border-left-color: var(--fill-color);\n",
              "      border-top-color: var(--fill-color);\n",
              "      border-right-color: var(--fill-color);\n",
              "    }\n",
              "    40% {\n",
              "      border-color: transparent;\n",
              "      border-right-color: var(--fill-color);\n",
              "      border-top-color: var(--fill-color);\n",
              "    }\n",
              "    60% {\n",
              "      border-color: transparent;\n",
              "      border-right-color: var(--fill-color);\n",
              "    }\n",
              "    80% {\n",
              "      border-color: transparent;\n",
              "      border-right-color: var(--fill-color);\n",
              "      border-bottom-color: var(--fill-color);\n",
              "    }\n",
              "    90% {\n",
              "      border-color: transparent;\n",
              "      border-bottom-color: var(--fill-color);\n",
              "    }\n",
              "  }\n",
              "</style>\n",
              "\n",
              "  <script>\n",
              "    async function quickchart(key) {\n",
              "      const quickchartButtonEl =\n",
              "        document.querySelector('#' + key + ' button');\n",
              "      quickchartButtonEl.disabled = true;  // To prevent multiple clicks.\n",
              "      quickchartButtonEl.classList.add('colab-df-spinner');\n",
              "      try {\n",
              "        const charts = await google.colab.kernel.invokeFunction(\n",
              "            'suggestCharts', [key], {});\n",
              "      } catch (error) {\n",
              "        console.error('Error during call to suggestCharts:', error);\n",
              "      }\n",
              "      quickchartButtonEl.classList.remove('colab-df-spinner');\n",
              "      quickchartButtonEl.classList.add('colab-df-quickchart-complete');\n",
              "    }\n",
              "    (() => {\n",
              "      let quickchartButtonEl =\n",
              "        document.querySelector('#df-45df7731-d746-4b8c-8c66-ceb7b8c39973 button');\n",
              "      quickchartButtonEl.style.display =\n",
              "        google.colab.kernel.accessAllowed ? 'block' : 'none';\n",
              "    })();\n",
              "  </script>\n",
              "</div>\n",
              "\n",
              "    </div>\n",
              "  </div>\n"
            ],
            "application/vnd.google.colaboratory.intrinsic+json": {
              "type": "dataframe",
              "variable_name": "df",
              "summary": "{\n  \"name\": \"df\",\n  \"rows\": 7,\n  \"fields\": [\n    {\n      \"column\": \"StudentID\",\n      \"properties\": {\n        \"dtype\": \"number\",\n        \"std\": 2,\n        \"min\": 101,\n        \"max\": 107,\n        \"num_unique_values\": 7,\n        \"samples\": [\n          101,\n          102,\n          106\n        ],\n        \"semantic_type\": \"\",\n        \"description\": \"\"\n      }\n    },\n    {\n      \"column\": \"Name\",\n      \"properties\": {\n        \"dtype\": \"string\",\n        \"num_unique_values\": 7,\n        \"samples\": [\n          \"Alice\",\n          \"Bob\",\n          \"Fiona\"\n        ],\n        \"semantic_type\": \"\",\n        \"description\": \"\"\n      }\n    },\n    {\n      \"column\": \"Mathematics\",\n      \"properties\": {\n        \"dtype\": \"number\",\n        \"std\": 31.98883733876107,\n        \"min\": 0.0,\n        \"max\": 92.0,\n        \"num_unique_values\": 7,\n        \"samples\": [\n          85.0,\n          78.0,\n          0.0\n        ],\n        \"semantic_type\": \"\",\n        \"description\": \"\"\n      }\n    },\n    {\n      \"column\": \"Science\",\n      \"properties\": {\n        \"dtype\": \"number\",\n        \"std\": 33.32380816287644,\n        \"min\": 0.0,\n        \"max\": 95.0,\n        \"num_unique_values\": 7,\n        \"samples\": [\n          89.0,\n          74.0,\n          88.0\n        ],\n        \"semantic_type\": \"\",\n        \"description\": \"\"\n      }\n    },\n    {\n      \"column\": \"History\",\n      \"properties\": {\n        \"dtype\": \"number\",\n        \"std\": 3,\n        \"min\": 82,\n        \"max\": 93,\n        \"num_unique_values\": 7,\n        \"samples\": [\n          90,\n          85,\n          84\n        ],\n        \"semantic_type\": \"\",\n        \"description\": \"\"\n      }\n    },\n    {\n      \"column\": \"English\",\n      \"properties\": {\n        \"dtype\": \"number\",\n        \"std\": 31.863548363070212,\n        \"min\": 0.0,\n        \"max\": 90.0,\n        \"num_unique_values\": 7,\n        \"samples\": [\n          88.0,\n          0.0,\n          82.0\n        ],\n        \"semantic_type\": \"\",\n        \"description\": \"\"\n      }\n    },\n    {\n      \"column\": \"Geography\",\n      \"properties\": {\n        \"dtype\": \"number\",\n        \"std\": 32.70939867843433,\n        \"min\": 0.0,\n        \"max\": 92.0,\n        \"num_unique_values\": 7,\n        \"samples\": [\n          92.0,\n          81.0,\n          86.0\n        ],\n        \"semantic_type\": \"\",\n        \"description\": \"\"\n      }\n    }\n  ]\n}"
            }
          },
          "metadata": {},
          "execution_count": 39
        }
      ]
    },
    {
      "cell_type": "code",
      "source": [
        "df.tail()"
      ],
      "metadata": {
        "id": "IkL1nOHAzqsL",
        "outputId": "fc601bc2-92aa-48e4-8db1-ab32aa7b9f8e",
        "colab": {
          "base_uri": "https://localhost:8080/",
          "height": 206
        }
      },
      "execution_count": 40,
      "outputs": [
        {
          "output_type": "execute_result",
          "data": {
            "text/plain": [
              "   StudentID     Name  Mathematics  Science  History  English  Geography\n",
              "2        103  Charlie         92.0     95.0       87     90.0        0.0\n",
              "3        104    Diana         88.0     91.0       93     85.0       89.0\n",
              "4        105    Ethan         76.0     80.0       82     78.0       85.0\n",
              "5        106    Fiona          0.0     88.0       84     82.0       86.0\n",
              "6        107   George         81.0      0.0       89     77.0       83.0"
            ],
            "text/html": [
              "\n",
              "  <div id=\"df-3b4201e8-3b7c-42ad-bdf8-e3d6b948c304\" class=\"colab-df-container\">\n",
              "    <div>\n",
              "<style scoped>\n",
              "    .dataframe tbody tr th:only-of-type {\n",
              "        vertical-align: middle;\n",
              "    }\n",
              "\n",
              "    .dataframe tbody tr th {\n",
              "        vertical-align: top;\n",
              "    }\n",
              "\n",
              "    .dataframe thead th {\n",
              "        text-align: right;\n",
              "    }\n",
              "</style>\n",
              "<table border=\"1\" class=\"dataframe\">\n",
              "  <thead>\n",
              "    <tr style=\"text-align: right;\">\n",
              "      <th></th>\n",
              "      <th>StudentID</th>\n",
              "      <th>Name</th>\n",
              "      <th>Mathematics</th>\n",
              "      <th>Science</th>\n",
              "      <th>History</th>\n",
              "      <th>English</th>\n",
              "      <th>Geography</th>\n",
              "    </tr>\n",
              "  </thead>\n",
              "  <tbody>\n",
              "    <tr>\n",
              "      <th>2</th>\n",
              "      <td>103</td>\n",
              "      <td>Charlie</td>\n",
              "      <td>92.0</td>\n",
              "      <td>95.0</td>\n",
              "      <td>87</td>\n",
              "      <td>90.0</td>\n",
              "      <td>0.0</td>\n",
              "    </tr>\n",
              "    <tr>\n",
              "      <th>3</th>\n",
              "      <td>104</td>\n",
              "      <td>Diana</td>\n",
              "      <td>88.0</td>\n",
              "      <td>91.0</td>\n",
              "      <td>93</td>\n",
              "      <td>85.0</td>\n",
              "      <td>89.0</td>\n",
              "    </tr>\n",
              "    <tr>\n",
              "      <th>4</th>\n",
              "      <td>105</td>\n",
              "      <td>Ethan</td>\n",
              "      <td>76.0</td>\n",
              "      <td>80.0</td>\n",
              "      <td>82</td>\n",
              "      <td>78.0</td>\n",
              "      <td>85.0</td>\n",
              "    </tr>\n",
              "    <tr>\n",
              "      <th>5</th>\n",
              "      <td>106</td>\n",
              "      <td>Fiona</td>\n",
              "      <td>0.0</td>\n",
              "      <td>88.0</td>\n",
              "      <td>84</td>\n",
              "      <td>82.0</td>\n",
              "      <td>86.0</td>\n",
              "    </tr>\n",
              "    <tr>\n",
              "      <th>6</th>\n",
              "      <td>107</td>\n",
              "      <td>George</td>\n",
              "      <td>81.0</td>\n",
              "      <td>0.0</td>\n",
              "      <td>89</td>\n",
              "      <td>77.0</td>\n",
              "      <td>83.0</td>\n",
              "    </tr>\n",
              "  </tbody>\n",
              "</table>\n",
              "</div>\n",
              "    <div class=\"colab-df-buttons\">\n",
              "\n",
              "  <div class=\"colab-df-container\">\n",
              "    <button class=\"colab-df-convert\" onclick=\"convertToInteractive('df-3b4201e8-3b7c-42ad-bdf8-e3d6b948c304')\"\n",
              "            title=\"Convert this dataframe to an interactive table.\"\n",
              "            style=\"display:none;\">\n",
              "\n",
              "  <svg xmlns=\"http://www.w3.org/2000/svg\" height=\"24px\" viewBox=\"0 -960 960 960\">\n",
              "    <path d=\"M120-120v-720h720v720H120Zm60-500h600v-160H180v160Zm220 220h160v-160H400v160Zm0 220h160v-160H400v160ZM180-400h160v-160H180v160Zm440 0h160v-160H620v160ZM180-180h160v-160H180v160Zm440 0h160v-160H620v160Z\"/>\n",
              "  </svg>\n",
              "    </button>\n",
              "\n",
              "  <style>\n",
              "    .colab-df-container {\n",
              "      display:flex;\n",
              "      gap: 12px;\n",
              "    }\n",
              "\n",
              "    .colab-df-convert {\n",
              "      background-color: #E8F0FE;\n",
              "      border: none;\n",
              "      border-radius: 50%;\n",
              "      cursor: pointer;\n",
              "      display: none;\n",
              "      fill: #1967D2;\n",
              "      height: 32px;\n",
              "      padding: 0 0 0 0;\n",
              "      width: 32px;\n",
              "    }\n",
              "\n",
              "    .colab-df-convert:hover {\n",
              "      background-color: #E2EBFA;\n",
              "      box-shadow: 0px 1px 2px rgba(60, 64, 67, 0.3), 0px 1px 3px 1px rgba(60, 64, 67, 0.15);\n",
              "      fill: #174EA6;\n",
              "    }\n",
              "\n",
              "    .colab-df-buttons div {\n",
              "      margin-bottom: 4px;\n",
              "    }\n",
              "\n",
              "    [theme=dark] .colab-df-convert {\n",
              "      background-color: #3B4455;\n",
              "      fill: #D2E3FC;\n",
              "    }\n",
              "\n",
              "    [theme=dark] .colab-df-convert:hover {\n",
              "      background-color: #434B5C;\n",
              "      box-shadow: 0px 1px 3px 1px rgba(0, 0, 0, 0.15);\n",
              "      filter: drop-shadow(0px 1px 2px rgba(0, 0, 0, 0.3));\n",
              "      fill: #FFFFFF;\n",
              "    }\n",
              "  </style>\n",
              "\n",
              "    <script>\n",
              "      const buttonEl =\n",
              "        document.querySelector('#df-3b4201e8-3b7c-42ad-bdf8-e3d6b948c304 button.colab-df-convert');\n",
              "      buttonEl.style.display =\n",
              "        google.colab.kernel.accessAllowed ? 'block' : 'none';\n",
              "\n",
              "      async function convertToInteractive(key) {\n",
              "        const element = document.querySelector('#df-3b4201e8-3b7c-42ad-bdf8-e3d6b948c304');\n",
              "        const dataTable =\n",
              "          await google.colab.kernel.invokeFunction('convertToInteractive',\n",
              "                                                    [key], {});\n",
              "        if (!dataTable) return;\n",
              "\n",
              "        const docLinkHtml = 'Like what you see? Visit the ' +\n",
              "          '<a target=\"_blank\" href=https://colab.research.google.com/notebooks/data_table.ipynb>data table notebook</a>'\n",
              "          + ' to learn more about interactive tables.';\n",
              "        element.innerHTML = '';\n",
              "        dataTable['output_type'] = 'display_data';\n",
              "        await google.colab.output.renderOutput(dataTable, element);\n",
              "        const docLink = document.createElement('div');\n",
              "        docLink.innerHTML = docLinkHtml;\n",
              "        element.appendChild(docLink);\n",
              "      }\n",
              "    </script>\n",
              "  </div>\n",
              "\n",
              "\n",
              "<div id=\"df-7a4ab51b-730f-4951-978c-79de8b7ffbb6\">\n",
              "  <button class=\"colab-df-quickchart\" onclick=\"quickchart('df-7a4ab51b-730f-4951-978c-79de8b7ffbb6')\"\n",
              "            title=\"Suggest charts\"\n",
              "            style=\"display:none;\">\n",
              "\n",
              "<svg xmlns=\"http://www.w3.org/2000/svg\" height=\"24px\"viewBox=\"0 0 24 24\"\n",
              "     width=\"24px\">\n",
              "    <g>\n",
              "        <path d=\"M19 3H5c-1.1 0-2 .9-2 2v14c0 1.1.9 2 2 2h14c1.1 0 2-.9 2-2V5c0-1.1-.9-2-2-2zM9 17H7v-7h2v7zm4 0h-2V7h2v10zm4 0h-2v-4h2v4z\"/>\n",
              "    </g>\n",
              "</svg>\n",
              "  </button>\n",
              "\n",
              "<style>\n",
              "  .colab-df-quickchart {\n",
              "      --bg-color: #E8F0FE;\n",
              "      --fill-color: #1967D2;\n",
              "      --hover-bg-color: #E2EBFA;\n",
              "      --hover-fill-color: #174EA6;\n",
              "      --disabled-fill-color: #AAA;\n",
              "      --disabled-bg-color: #DDD;\n",
              "  }\n",
              "\n",
              "  [theme=dark] .colab-df-quickchart {\n",
              "      --bg-color: #3B4455;\n",
              "      --fill-color: #D2E3FC;\n",
              "      --hover-bg-color: #434B5C;\n",
              "      --hover-fill-color: #FFFFFF;\n",
              "      --disabled-bg-color: #3B4455;\n",
              "      --disabled-fill-color: #666;\n",
              "  }\n",
              "\n",
              "  .colab-df-quickchart {\n",
              "    background-color: var(--bg-color);\n",
              "    border: none;\n",
              "    border-radius: 50%;\n",
              "    cursor: pointer;\n",
              "    display: none;\n",
              "    fill: var(--fill-color);\n",
              "    height: 32px;\n",
              "    padding: 0;\n",
              "    width: 32px;\n",
              "  }\n",
              "\n",
              "  .colab-df-quickchart:hover {\n",
              "    background-color: var(--hover-bg-color);\n",
              "    box-shadow: 0 1px 2px rgba(60, 64, 67, 0.3), 0 1px 3px 1px rgba(60, 64, 67, 0.15);\n",
              "    fill: var(--button-hover-fill-color);\n",
              "  }\n",
              "\n",
              "  .colab-df-quickchart-complete:disabled,\n",
              "  .colab-df-quickchart-complete:disabled:hover {\n",
              "    background-color: var(--disabled-bg-color);\n",
              "    fill: var(--disabled-fill-color);\n",
              "    box-shadow: none;\n",
              "  }\n",
              "\n",
              "  .colab-df-spinner {\n",
              "    border: 2px solid var(--fill-color);\n",
              "    border-color: transparent;\n",
              "    border-bottom-color: var(--fill-color);\n",
              "    animation:\n",
              "      spin 1s steps(1) infinite;\n",
              "  }\n",
              "\n",
              "  @keyframes spin {\n",
              "    0% {\n",
              "      border-color: transparent;\n",
              "      border-bottom-color: var(--fill-color);\n",
              "      border-left-color: var(--fill-color);\n",
              "    }\n",
              "    20% {\n",
              "      border-color: transparent;\n",
              "      border-left-color: var(--fill-color);\n",
              "      border-top-color: var(--fill-color);\n",
              "    }\n",
              "    30% {\n",
              "      border-color: transparent;\n",
              "      border-left-color: var(--fill-color);\n",
              "      border-top-color: var(--fill-color);\n",
              "      border-right-color: var(--fill-color);\n",
              "    }\n",
              "    40% {\n",
              "      border-color: transparent;\n",
              "      border-right-color: var(--fill-color);\n",
              "      border-top-color: var(--fill-color);\n",
              "    }\n",
              "    60% {\n",
              "      border-color: transparent;\n",
              "      border-right-color: var(--fill-color);\n",
              "    }\n",
              "    80% {\n",
              "      border-color: transparent;\n",
              "      border-right-color: var(--fill-color);\n",
              "      border-bottom-color: var(--fill-color);\n",
              "    }\n",
              "    90% {\n",
              "      border-color: transparent;\n",
              "      border-bottom-color: var(--fill-color);\n",
              "    }\n",
              "  }\n",
              "</style>\n",
              "\n",
              "  <script>\n",
              "    async function quickchart(key) {\n",
              "      const quickchartButtonEl =\n",
              "        document.querySelector('#' + key + ' button');\n",
              "      quickchartButtonEl.disabled = true;  // To prevent multiple clicks.\n",
              "      quickchartButtonEl.classList.add('colab-df-spinner');\n",
              "      try {\n",
              "        const charts = await google.colab.kernel.invokeFunction(\n",
              "            'suggestCharts', [key], {});\n",
              "      } catch (error) {\n",
              "        console.error('Error during call to suggestCharts:', error);\n",
              "      }\n",
              "      quickchartButtonEl.classList.remove('colab-df-spinner');\n",
              "      quickchartButtonEl.classList.add('colab-df-quickchart-complete');\n",
              "    }\n",
              "    (() => {\n",
              "      let quickchartButtonEl =\n",
              "        document.querySelector('#df-7a4ab51b-730f-4951-978c-79de8b7ffbb6 button');\n",
              "      quickchartButtonEl.style.display =\n",
              "        google.colab.kernel.accessAllowed ? 'block' : 'none';\n",
              "    })();\n",
              "  </script>\n",
              "</div>\n",
              "\n",
              "    </div>\n",
              "  </div>\n"
            ],
            "application/vnd.google.colaboratory.intrinsic+json": {
              "type": "dataframe",
              "summary": "{\n  \"name\": \"df\",\n  \"rows\": 5,\n  \"fields\": [\n    {\n      \"column\": \"StudentID\",\n      \"properties\": {\n        \"dtype\": \"number\",\n        \"std\": 1,\n        \"min\": 103,\n        \"max\": 107,\n        \"num_unique_values\": 5,\n        \"samples\": [\n          104,\n          107,\n          105\n        ],\n        \"semantic_type\": \"\",\n        \"description\": \"\"\n      }\n    },\n    {\n      \"column\": \"Name\",\n      \"properties\": {\n        \"dtype\": \"string\",\n        \"num_unique_values\": 5,\n        \"samples\": [\n          \"Diana\",\n          \"George\",\n          \"Ethan\"\n        ],\n        \"semantic_type\": \"\",\n        \"description\": \"\"\n      }\n    },\n    {\n      \"column\": \"Mathematics\",\n      \"properties\": {\n        \"dtype\": \"number\",\n        \"std\": 38.181147180251145,\n        \"min\": 0.0,\n        \"max\": 92.0,\n        \"num_unique_values\": 5,\n        \"samples\": [\n          88.0,\n          81.0,\n          76.0\n        ],\n        \"semantic_type\": \"\",\n        \"description\": \"\"\n      }\n    },\n    {\n      \"column\": \"Science\",\n      \"properties\": {\n        \"dtype\": \"number\",\n        \"std\": 39.95872870850623,\n        \"min\": 0.0,\n        \"max\": 95.0,\n        \"num_unique_values\": 5,\n        \"samples\": [\n          91.0,\n          0.0,\n          80.0\n        ],\n        \"semantic_type\": \"\",\n        \"description\": \"\"\n      }\n    },\n    {\n      \"column\": \"History\",\n      \"properties\": {\n        \"dtype\": \"number\",\n        \"std\": 4,\n        \"min\": 82,\n        \"max\": 93,\n        \"num_unique_values\": 5,\n        \"samples\": [\n          93,\n          89,\n          82\n        ],\n        \"semantic_type\": \"\",\n        \"description\": \"\"\n      }\n    },\n    {\n      \"column\": \"English\",\n      \"properties\": {\n        \"dtype\": \"number\",\n        \"std\": 5.319774431308155,\n        \"min\": 77.0,\n        \"max\": 90.0,\n        \"num_unique_values\": 5,\n        \"samples\": [\n          85.0,\n          77.0,\n          78.0\n        ],\n        \"semantic_type\": \"\",\n        \"description\": \"\"\n      }\n    },\n    {\n      \"column\": \"Geography\",\n      \"properties\": {\n        \"dtype\": \"number\",\n        \"std\": 38.409634208099405,\n        \"min\": 0.0,\n        \"max\": 89.0,\n        \"num_unique_values\": 5,\n        \"samples\": [\n          89.0,\n          83.0,\n          85.0\n        ],\n        \"semantic_type\": \"\",\n        \"description\": \"\"\n      }\n    }\n  ]\n}"
            }
          },
          "metadata": {},
          "execution_count": 40
        }
      ]
    },
    {
      "cell_type": "markdown",
      "source": [
        " >`astype` It returns a new Series or DataFrame with the elements converted to the specified type.\n",
        "  inplace=True\n"
      ],
      "metadata": {
        "id": "Q5dcRY_40WT0"
      }
    },
    {
      "cell_type": "code",
      "source": [
        "seri=pd.Series([1,2,3,4,5,6])\n",
        "print(seri,type(seri))\n",
        "seri=seri.astype(str)\n",
        "print(seri,type(seri))"
      ],
      "metadata": {
        "id": "5ZMYj62yzrck",
        "outputId": "9fd32907-22d5-4b69-ac69-b3d0661cda19",
        "colab": {
          "base_uri": "https://localhost:8080/"
        }
      },
      "execution_count": 42,
      "outputs": [
        {
          "output_type": "stream",
          "name": "stdout",
          "text": [
            "0    1\n",
            "1    2\n",
            "2    3\n",
            "3    4\n",
            "4    5\n",
            "5    6\n",
            "dtype: int64 <class 'pandas.core.series.Series'>\n",
            "0    1\n",
            "1    2\n",
            "2    3\n",
            "3    4\n",
            "4    5\n",
            "5    6\n",
            "dtype: object <class 'pandas.core.series.Series'>\n"
          ]
        }
      ]
    },
    {
      "cell_type": "code",
      "source": [
        "df['History'].dtype\n",
        "print(df.iloc[:,1])"
      ],
      "metadata": {
        "id": "eV0_4Zat37aM",
        "outputId": "7da80c86-8620-49e1-c82c-7351fb80bea7",
        "colab": {
          "base_uri": "https://localhost:8080/"
        }
      },
      "execution_count": 60,
      "outputs": [
        {
          "output_type": "stream",
          "name": "stdout",
          "text": [
            "0      Alice\n",
            "1        Bob\n",
            "2    Charlie\n",
            "3      Diana\n",
            "4      Ethan\n",
            "5      Fiona\n",
            "6     George\n",
            "Name: Name, dtype: object\n"
          ]
        }
      ]
    },
    {
      "cell_type": "markdown",
      "source": [
        "### 1. **`inplace=True`**\n",
        "The `inplace=True` parameter is used in pandas methods to modify the original DataFrame or Series directly without needing to assign the result back to the variable.\n",
        "\n",
        "- Common methods that support `inplace=True`:\n",
        "  - `drop()`: Drop rows or columns.\n",
        "  - `fillna()`: Replace `NaN` values with specified values.\n",
        "  - `rename()`: Rename columns or index labels.\n",
        "  - `sort_values()`: Sort values by a particular column.\n",
        "  - `set_index()`: Set a column as the index.\n",
        "  - `reset_index()`: Reset the index.\n",
        "  - `replace()`: Replace values.\n",
        "\n",
        "---\n",
        "\n",
        "### 2. **`axis`**\n",
        "The `axis` parameter is used to specify whether the operation is performed along rows (`axis=0`) or columns (`axis=1`).\n",
        "\n",
        "- Common methods that use `axis`:\n",
        "  - `drop()`: To drop rows (`axis=0`) or columns (`axis=1`).\n",
        "  - `apply()`: To apply a function along rows (`axis=0`) or columns (`axis=1`).\n",
        "  - `sum()`, `mean()`, `std()`, etc.: To calculate statistics across rows (`axis=0`) or columns (`axis=1`).\n",
        "  - `stack()`: Stack the DataFrame along columns or rows.\n",
        "  - `pivot_table()`: Create pivot tables (usually `axis=0` for rows and `axis=1` for columns).\n"
      ],
      "metadata": {
        "id": "DHxeQJwU083x"
      }
    },
    {
      "cell_type": "code",
      "source": [
        "def grade(num):\n",
        "  if num>=90:\n",
        "    return 'A'\n",
        "  elif num>=80:\n",
        "    return 'A+'\n",
        "  elif num>=70:\n",
        "    return 'A'\n",
        "  elif num>=60:\n",
        "    return 'B+'\n",
        "  elif num>=50:\n",
        "    return 'B'\n",
        "  else:\n",
        "    return 'F'\n",
        "#print(df.iloc[1,2:].dtype)\n",
        "print(df['Mathematics'])\n",
        "for sub in ['Mathematics', 'Science', 'History', 'English', 'Geography']:\n",
        "    df[sub+' Grade']=df[sub].apply(grade)\n",
        "print(df)"
      ],
      "metadata": {
        "id": "6Q2xkbU90AVm",
        "outputId": "9d14ff75-ae94-45a7-9b16-df8ee289173f",
        "colab": {
          "base_uri": "https://localhost:8080/"
        }
      },
      "execution_count": 69,
      "outputs": [
        {
          "output_type": "stream",
          "name": "stdout",
          "text": [
            "0    85.0\n",
            "1    78.0\n",
            "2    92.0\n",
            "3    88.0\n",
            "4    76.0\n",
            "5     0.0\n",
            "6    81.0\n",
            "Name: Mathematics, dtype: float64\n",
            "   StudentID     Name  Mathematics  Science  History  English  Geography  \\\n",
            "0        101    Alice         85.0     89.0       90     88.0       92.0   \n",
            "1        102      Bob         78.0     74.0       85      0.0       81.0   \n",
            "2        103  Charlie         92.0     95.0       87     90.0        0.0   \n",
            "3        104    Diana         88.0     91.0       93     85.0       89.0   \n",
            "4        105    Ethan         76.0     80.0       82     78.0       85.0   \n",
            "5        106    Fiona          0.0     88.0       84     82.0       86.0   \n",
            "6        107   George         81.0      0.0       89     77.0       83.0   \n",
            "\n",
            "  Mathematics Grade Science Grade History Grade English Grade Geography Grade  \n",
            "0                A+            A+             A            A+               A  \n",
            "1                 A             A            A+             F              A+  \n",
            "2                 A             A            A+             A               F  \n",
            "3                A+             A             A            A+              A+  \n",
            "4                 A            A+            A+             A              A+  \n",
            "5                 F            A+            A+            A+              A+  \n",
            "6                A+             F            A+             A              A+  \n"
          ]
        }
      ]
    },
    {
      "cell_type": "code",
      "source": [
        "df.iloc[1,:]"
      ],
      "metadata": {
        "id": "Ns5GU_4p2rV8",
        "outputId": "a5310a62-e2de-4ac9-fce8-13d38a96af1e",
        "colab": {
          "base_uri": "https://localhost:8080/",
          "height": 460
        }
      },
      "execution_count": 70,
      "outputs": [
        {
          "output_type": "execute_result",
          "data": {
            "text/plain": [
              "StudentID             102\n",
              "Name                  Bob\n",
              "Mathematics          78.0\n",
              "Science              74.0\n",
              "History                85\n",
              "English               0.0\n",
              "Geography            81.0\n",
              "Mathematics Grade       A\n",
              "Science Grade           A\n",
              "History Grade          A+\n",
              "English Grade           F\n",
              "Geography Grade        A+\n",
              "Name: 1, dtype: object"
            ],
            "text/html": [
              "<div>\n",
              "<style scoped>\n",
              "    .dataframe tbody tr th:only-of-type {\n",
              "        vertical-align: middle;\n",
              "    }\n",
              "\n",
              "    .dataframe tbody tr th {\n",
              "        vertical-align: top;\n",
              "    }\n",
              "\n",
              "    .dataframe thead th {\n",
              "        text-align: right;\n",
              "    }\n",
              "</style>\n",
              "<table border=\"1\" class=\"dataframe\">\n",
              "  <thead>\n",
              "    <tr style=\"text-align: right;\">\n",
              "      <th></th>\n",
              "      <th>1</th>\n",
              "    </tr>\n",
              "  </thead>\n",
              "  <tbody>\n",
              "    <tr>\n",
              "      <th>StudentID</th>\n",
              "      <td>102</td>\n",
              "    </tr>\n",
              "    <tr>\n",
              "      <th>Name</th>\n",
              "      <td>Bob</td>\n",
              "    </tr>\n",
              "    <tr>\n",
              "      <th>Mathematics</th>\n",
              "      <td>78.0</td>\n",
              "    </tr>\n",
              "    <tr>\n",
              "      <th>Science</th>\n",
              "      <td>74.0</td>\n",
              "    </tr>\n",
              "    <tr>\n",
              "      <th>History</th>\n",
              "      <td>85</td>\n",
              "    </tr>\n",
              "    <tr>\n",
              "      <th>English</th>\n",
              "      <td>0.0</td>\n",
              "    </tr>\n",
              "    <tr>\n",
              "      <th>Geography</th>\n",
              "      <td>81.0</td>\n",
              "    </tr>\n",
              "    <tr>\n",
              "      <th>Mathematics Grade</th>\n",
              "      <td>A</td>\n",
              "    </tr>\n",
              "    <tr>\n",
              "      <th>Science Grade</th>\n",
              "      <td>A</td>\n",
              "    </tr>\n",
              "    <tr>\n",
              "      <th>History Grade</th>\n",
              "      <td>A+</td>\n",
              "    </tr>\n",
              "    <tr>\n",
              "      <th>English Grade</th>\n",
              "      <td>F</td>\n",
              "    </tr>\n",
              "    <tr>\n",
              "      <th>Geography Grade</th>\n",
              "      <td>A+</td>\n",
              "    </tr>\n",
              "  </tbody>\n",
              "</table>\n",
              "</div><br><label><b>dtype:</b> object</label>"
            ]
          },
          "metadata": {},
          "execution_count": 70
        }
      ]
    },
    {
      "cell_type": "code",
      "source": [
        "df.describe()"
      ],
      "metadata": {
        "id": "DPC7K8HS3Wb_",
        "outputId": "cf39edca-3c0c-4164-e2ab-ce4262da2e71",
        "colab": {
          "base_uri": "https://localhost:8080/",
          "height": 300
        }
      },
      "execution_count": 73,
      "outputs": [
        {
          "output_type": "execute_result",
          "data": {
            "text/plain": [
              "        StudentID  Mathematics    Science    History    English  Geography\n",
              "count    7.000000     7.000000   7.000000   7.000000   7.000000   7.000000\n",
              "mean   104.000000    71.428571  73.857143  87.142857  71.428571  73.714286\n",
              "std      2.160247    31.988837  33.323808   3.804759  31.863548  32.709399\n",
              "min    101.000000     0.000000   0.000000  82.000000   0.000000   0.000000\n",
              "25%    102.500000    77.000000  77.000000  84.500000  77.500000  82.000000\n",
              "50%    104.000000    81.000000  88.000000  87.000000  82.000000  85.000000\n",
              "75%    105.500000    86.500000  90.000000  89.500000  86.500000  87.500000\n",
              "max    107.000000    92.000000  95.000000  93.000000  90.000000  92.000000"
            ],
            "text/html": [
              "\n",
              "  <div id=\"df-5dd1bb14-2556-4b8d-919c-14236a9cd7ea\" class=\"colab-df-container\">\n",
              "    <div>\n",
              "<style scoped>\n",
              "    .dataframe tbody tr th:only-of-type {\n",
              "        vertical-align: middle;\n",
              "    }\n",
              "\n",
              "    .dataframe tbody tr th {\n",
              "        vertical-align: top;\n",
              "    }\n",
              "\n",
              "    .dataframe thead th {\n",
              "        text-align: right;\n",
              "    }\n",
              "</style>\n",
              "<table border=\"1\" class=\"dataframe\">\n",
              "  <thead>\n",
              "    <tr style=\"text-align: right;\">\n",
              "      <th></th>\n",
              "      <th>StudentID</th>\n",
              "      <th>Mathematics</th>\n",
              "      <th>Science</th>\n",
              "      <th>History</th>\n",
              "      <th>English</th>\n",
              "      <th>Geography</th>\n",
              "    </tr>\n",
              "  </thead>\n",
              "  <tbody>\n",
              "    <tr>\n",
              "      <th>count</th>\n",
              "      <td>7.000000</td>\n",
              "      <td>7.000000</td>\n",
              "      <td>7.000000</td>\n",
              "      <td>7.000000</td>\n",
              "      <td>7.000000</td>\n",
              "      <td>7.000000</td>\n",
              "    </tr>\n",
              "    <tr>\n",
              "      <th>mean</th>\n",
              "      <td>104.000000</td>\n",
              "      <td>71.428571</td>\n",
              "      <td>73.857143</td>\n",
              "      <td>87.142857</td>\n",
              "      <td>71.428571</td>\n",
              "      <td>73.714286</td>\n",
              "    </tr>\n",
              "    <tr>\n",
              "      <th>std</th>\n",
              "      <td>2.160247</td>\n",
              "      <td>31.988837</td>\n",
              "      <td>33.323808</td>\n",
              "      <td>3.804759</td>\n",
              "      <td>31.863548</td>\n",
              "      <td>32.709399</td>\n",
              "    </tr>\n",
              "    <tr>\n",
              "      <th>min</th>\n",
              "      <td>101.000000</td>\n",
              "      <td>0.000000</td>\n",
              "      <td>0.000000</td>\n",
              "      <td>82.000000</td>\n",
              "      <td>0.000000</td>\n",
              "      <td>0.000000</td>\n",
              "    </tr>\n",
              "    <tr>\n",
              "      <th>25%</th>\n",
              "      <td>102.500000</td>\n",
              "      <td>77.000000</td>\n",
              "      <td>77.000000</td>\n",
              "      <td>84.500000</td>\n",
              "      <td>77.500000</td>\n",
              "      <td>82.000000</td>\n",
              "    </tr>\n",
              "    <tr>\n",
              "      <th>50%</th>\n",
              "      <td>104.000000</td>\n",
              "      <td>81.000000</td>\n",
              "      <td>88.000000</td>\n",
              "      <td>87.000000</td>\n",
              "      <td>82.000000</td>\n",
              "      <td>85.000000</td>\n",
              "    </tr>\n",
              "    <tr>\n",
              "      <th>75%</th>\n",
              "      <td>105.500000</td>\n",
              "      <td>86.500000</td>\n",
              "      <td>90.000000</td>\n",
              "      <td>89.500000</td>\n",
              "      <td>86.500000</td>\n",
              "      <td>87.500000</td>\n",
              "    </tr>\n",
              "    <tr>\n",
              "      <th>max</th>\n",
              "      <td>107.000000</td>\n",
              "      <td>92.000000</td>\n",
              "      <td>95.000000</td>\n",
              "      <td>93.000000</td>\n",
              "      <td>90.000000</td>\n",
              "      <td>92.000000</td>\n",
              "    </tr>\n",
              "  </tbody>\n",
              "</table>\n",
              "</div>\n",
              "    <div class=\"colab-df-buttons\">\n",
              "\n",
              "  <div class=\"colab-df-container\">\n",
              "    <button class=\"colab-df-convert\" onclick=\"convertToInteractive('df-5dd1bb14-2556-4b8d-919c-14236a9cd7ea')\"\n",
              "            title=\"Convert this dataframe to an interactive table.\"\n",
              "            style=\"display:none;\">\n",
              "\n",
              "  <svg xmlns=\"http://www.w3.org/2000/svg\" height=\"24px\" viewBox=\"0 -960 960 960\">\n",
              "    <path d=\"M120-120v-720h720v720H120Zm60-500h600v-160H180v160Zm220 220h160v-160H400v160Zm0 220h160v-160H400v160ZM180-400h160v-160H180v160Zm440 0h160v-160H620v160ZM180-180h160v-160H180v160Zm440 0h160v-160H620v160Z\"/>\n",
              "  </svg>\n",
              "    </button>\n",
              "\n",
              "  <style>\n",
              "    .colab-df-container {\n",
              "      display:flex;\n",
              "      gap: 12px;\n",
              "    }\n",
              "\n",
              "    .colab-df-convert {\n",
              "      background-color: #E8F0FE;\n",
              "      border: none;\n",
              "      border-radius: 50%;\n",
              "      cursor: pointer;\n",
              "      display: none;\n",
              "      fill: #1967D2;\n",
              "      height: 32px;\n",
              "      padding: 0 0 0 0;\n",
              "      width: 32px;\n",
              "    }\n",
              "\n",
              "    .colab-df-convert:hover {\n",
              "      background-color: #E2EBFA;\n",
              "      box-shadow: 0px 1px 2px rgba(60, 64, 67, 0.3), 0px 1px 3px 1px rgba(60, 64, 67, 0.15);\n",
              "      fill: #174EA6;\n",
              "    }\n",
              "\n",
              "    .colab-df-buttons div {\n",
              "      margin-bottom: 4px;\n",
              "    }\n",
              "\n",
              "    [theme=dark] .colab-df-convert {\n",
              "      background-color: #3B4455;\n",
              "      fill: #D2E3FC;\n",
              "    }\n",
              "\n",
              "    [theme=dark] .colab-df-convert:hover {\n",
              "      background-color: #434B5C;\n",
              "      box-shadow: 0px 1px 3px 1px rgba(0, 0, 0, 0.15);\n",
              "      filter: drop-shadow(0px 1px 2px rgba(0, 0, 0, 0.3));\n",
              "      fill: #FFFFFF;\n",
              "    }\n",
              "  </style>\n",
              "\n",
              "    <script>\n",
              "      const buttonEl =\n",
              "        document.querySelector('#df-5dd1bb14-2556-4b8d-919c-14236a9cd7ea button.colab-df-convert');\n",
              "      buttonEl.style.display =\n",
              "        google.colab.kernel.accessAllowed ? 'block' : 'none';\n",
              "\n",
              "      async function convertToInteractive(key) {\n",
              "        const element = document.querySelector('#df-5dd1bb14-2556-4b8d-919c-14236a9cd7ea');\n",
              "        const dataTable =\n",
              "          await google.colab.kernel.invokeFunction('convertToInteractive',\n",
              "                                                    [key], {});\n",
              "        if (!dataTable) return;\n",
              "\n",
              "        const docLinkHtml = 'Like what you see? Visit the ' +\n",
              "          '<a target=\"_blank\" href=https://colab.research.google.com/notebooks/data_table.ipynb>data table notebook</a>'\n",
              "          + ' to learn more about interactive tables.';\n",
              "        element.innerHTML = '';\n",
              "        dataTable['output_type'] = 'display_data';\n",
              "        await google.colab.output.renderOutput(dataTable, element);\n",
              "        const docLink = document.createElement('div');\n",
              "        docLink.innerHTML = docLinkHtml;\n",
              "        element.appendChild(docLink);\n",
              "      }\n",
              "    </script>\n",
              "  </div>\n",
              "\n",
              "\n",
              "<div id=\"df-0c8c1728-6e9c-4e98-8dfe-509005dd497a\">\n",
              "  <button class=\"colab-df-quickchart\" onclick=\"quickchart('df-0c8c1728-6e9c-4e98-8dfe-509005dd497a')\"\n",
              "            title=\"Suggest charts\"\n",
              "            style=\"display:none;\">\n",
              "\n",
              "<svg xmlns=\"http://www.w3.org/2000/svg\" height=\"24px\"viewBox=\"0 0 24 24\"\n",
              "     width=\"24px\">\n",
              "    <g>\n",
              "        <path d=\"M19 3H5c-1.1 0-2 .9-2 2v14c0 1.1.9 2 2 2h14c1.1 0 2-.9 2-2V5c0-1.1-.9-2-2-2zM9 17H7v-7h2v7zm4 0h-2V7h2v10zm4 0h-2v-4h2v4z\"/>\n",
              "    </g>\n",
              "</svg>\n",
              "  </button>\n",
              "\n",
              "<style>\n",
              "  .colab-df-quickchart {\n",
              "      --bg-color: #E8F0FE;\n",
              "      --fill-color: #1967D2;\n",
              "      --hover-bg-color: #E2EBFA;\n",
              "      --hover-fill-color: #174EA6;\n",
              "      --disabled-fill-color: #AAA;\n",
              "      --disabled-bg-color: #DDD;\n",
              "  }\n",
              "\n",
              "  [theme=dark] .colab-df-quickchart {\n",
              "      --bg-color: #3B4455;\n",
              "      --fill-color: #D2E3FC;\n",
              "      --hover-bg-color: #434B5C;\n",
              "      --hover-fill-color: #FFFFFF;\n",
              "      --disabled-bg-color: #3B4455;\n",
              "      --disabled-fill-color: #666;\n",
              "  }\n",
              "\n",
              "  .colab-df-quickchart {\n",
              "    background-color: var(--bg-color);\n",
              "    border: none;\n",
              "    border-radius: 50%;\n",
              "    cursor: pointer;\n",
              "    display: none;\n",
              "    fill: var(--fill-color);\n",
              "    height: 32px;\n",
              "    padding: 0;\n",
              "    width: 32px;\n",
              "  }\n",
              "\n",
              "  .colab-df-quickchart:hover {\n",
              "    background-color: var(--hover-bg-color);\n",
              "    box-shadow: 0 1px 2px rgba(60, 64, 67, 0.3), 0 1px 3px 1px rgba(60, 64, 67, 0.15);\n",
              "    fill: var(--button-hover-fill-color);\n",
              "  }\n",
              "\n",
              "  .colab-df-quickchart-complete:disabled,\n",
              "  .colab-df-quickchart-complete:disabled:hover {\n",
              "    background-color: var(--disabled-bg-color);\n",
              "    fill: var(--disabled-fill-color);\n",
              "    box-shadow: none;\n",
              "  }\n",
              "\n",
              "  .colab-df-spinner {\n",
              "    border: 2px solid var(--fill-color);\n",
              "    border-color: transparent;\n",
              "    border-bottom-color: var(--fill-color);\n",
              "    animation:\n",
              "      spin 1s steps(1) infinite;\n",
              "  }\n",
              "\n",
              "  @keyframes spin {\n",
              "    0% {\n",
              "      border-color: transparent;\n",
              "      border-bottom-color: var(--fill-color);\n",
              "      border-left-color: var(--fill-color);\n",
              "    }\n",
              "    20% {\n",
              "      border-color: transparent;\n",
              "      border-left-color: var(--fill-color);\n",
              "      border-top-color: var(--fill-color);\n",
              "    }\n",
              "    30% {\n",
              "      border-color: transparent;\n",
              "      border-left-color: var(--fill-color);\n",
              "      border-top-color: var(--fill-color);\n",
              "      border-right-color: var(--fill-color);\n",
              "    }\n",
              "    40% {\n",
              "      border-color: transparent;\n",
              "      border-right-color: var(--fill-color);\n",
              "      border-top-color: var(--fill-color);\n",
              "    }\n",
              "    60% {\n",
              "      border-color: transparent;\n",
              "      border-right-color: var(--fill-color);\n",
              "    }\n",
              "    80% {\n",
              "      border-color: transparent;\n",
              "      border-right-color: var(--fill-color);\n",
              "      border-bottom-color: var(--fill-color);\n",
              "    }\n",
              "    90% {\n",
              "      border-color: transparent;\n",
              "      border-bottom-color: var(--fill-color);\n",
              "    }\n",
              "  }\n",
              "</style>\n",
              "\n",
              "  <script>\n",
              "    async function quickchart(key) {\n",
              "      const quickchartButtonEl =\n",
              "        document.querySelector('#' + key + ' button');\n",
              "      quickchartButtonEl.disabled = true;  // To prevent multiple clicks.\n",
              "      quickchartButtonEl.classList.add('colab-df-spinner');\n",
              "      try {\n",
              "        const charts = await google.colab.kernel.invokeFunction(\n",
              "            'suggestCharts', [key], {});\n",
              "      } catch (error) {\n",
              "        console.error('Error during call to suggestCharts:', error);\n",
              "      }\n",
              "      quickchartButtonEl.classList.remove('colab-df-spinner');\n",
              "      quickchartButtonEl.classList.add('colab-df-quickchart-complete');\n",
              "    }\n",
              "    (() => {\n",
              "      let quickchartButtonEl =\n",
              "        document.querySelector('#df-0c8c1728-6e9c-4e98-8dfe-509005dd497a button');\n",
              "      quickchartButtonEl.style.display =\n",
              "        google.colab.kernel.accessAllowed ? 'block' : 'none';\n",
              "    })();\n",
              "  </script>\n",
              "</div>\n",
              "\n",
              "    </div>\n",
              "  </div>\n"
            ],
            "application/vnd.google.colaboratory.intrinsic+json": {
              "type": "dataframe",
              "summary": "{\n  \"name\": \"df\",\n  \"rows\": 8,\n  \"fields\": [\n    {\n      \"column\": \"StudentID\",\n      \"properties\": {\n        \"dtype\": \"number\",\n        \"std\": 46.075527103320965,\n        \"min\": 2.160246899469287,\n        \"max\": 107.0,\n        \"num_unique_values\": 7,\n        \"samples\": [\n          7.0,\n          104.0,\n          105.5\n        ],\n        \"semantic_type\": \"\",\n        \"description\": \"\"\n      }\n    },\n    {\n      \"column\": \"Mathematics\",\n      \"properties\": {\n        \"dtype\": \"number\",\n        \"std\": 37.116958481071066,\n        \"min\": 0.0,\n        \"max\": 92.0,\n        \"num_unique_values\": 8,\n        \"samples\": [\n          71.42857142857143,\n          81.0,\n          7.0\n        ],\n        \"semantic_type\": \"\",\n        \"description\": \"\"\n      }\n    },\n    {\n      \"column\": \"Science\",\n      \"properties\": {\n        \"dtype\": \"number\",\n        \"std\": 38.69174760714561,\n        \"min\": 0.0,\n        \"max\": 95.0,\n        \"num_unique_values\": 8,\n        \"samples\": [\n          73.85714285714286,\n          88.0,\n          7.0\n        ],\n        \"semantic_type\": \"\",\n        \"description\": \"\"\n      }\n    },\n    {\n      \"column\": \"History\",\n      \"properties\": {\n        \"dtype\": \"number\",\n        \"std\": 38.00816952304703,\n        \"min\": 3.804758924845367,\n        \"max\": 93.0,\n        \"num_unique_values\": 8,\n        \"samples\": [\n          87.14285714285714,\n          87.0,\n          7.0\n        ],\n        \"semantic_type\": \"\",\n        \"description\": \"\"\n      }\n    },\n    {\n      \"column\": \"English\",\n      \"properties\": {\n        \"dtype\": \"number\",\n        \"std\": 36.99757618913823,\n        \"min\": 0.0,\n        \"max\": 90.0,\n        \"num_unique_values\": 8,\n        \"samples\": [\n          71.42857142857143,\n          82.0,\n          7.0\n        ],\n        \"semantic_type\": \"\",\n        \"description\": \"\"\n      }\n    },\n    {\n      \"column\": \"Geography\",\n      \"properties\": {\n        \"dtype\": \"number\",\n        \"std\": 38.1364584600022,\n        \"min\": 0.0,\n        \"max\": 92.0,\n        \"num_unique_values\": 8,\n        \"samples\": [\n          73.71428571428571,\n          85.0,\n          7.0\n        ],\n        \"semantic_type\": \"\",\n        \"description\": \"\"\n      }\n    }\n  ]\n}"
            }
          },
          "metadata": {},
          "execution_count": 73
        }
      ]
    },
    {
      "cell_type": "code",
      "source": [
        "df['Mathematics'].describe()"
      ],
      "metadata": {
        "id": "VkeTkYXu78XO",
        "outputId": "e42dbaf7-40f8-4c2d-f3fe-88d5f4942ab3",
        "colab": {
          "base_uri": "https://localhost:8080/",
          "height": 335
        }
      },
      "execution_count": 74,
      "outputs": [
        {
          "output_type": "execute_result",
          "data": {
            "text/plain": [
              "count     7.000000\n",
              "mean     71.428571\n",
              "std      31.988837\n",
              "min       0.000000\n",
              "25%      77.000000\n",
              "50%      81.000000\n",
              "75%      86.500000\n",
              "max      92.000000\n",
              "Name: Mathematics, dtype: float64"
            ],
            "text/html": [
              "<div>\n",
              "<style scoped>\n",
              "    .dataframe tbody tr th:only-of-type {\n",
              "        vertical-align: middle;\n",
              "    }\n",
              "\n",
              "    .dataframe tbody tr th {\n",
              "        vertical-align: top;\n",
              "    }\n",
              "\n",
              "    .dataframe thead th {\n",
              "        text-align: right;\n",
              "    }\n",
              "</style>\n",
              "<table border=\"1\" class=\"dataframe\">\n",
              "  <thead>\n",
              "    <tr style=\"text-align: right;\">\n",
              "      <th></th>\n",
              "      <th>Mathematics</th>\n",
              "    </tr>\n",
              "  </thead>\n",
              "  <tbody>\n",
              "    <tr>\n",
              "      <th>count</th>\n",
              "      <td>7.000000</td>\n",
              "    </tr>\n",
              "    <tr>\n",
              "      <th>mean</th>\n",
              "      <td>71.428571</td>\n",
              "    </tr>\n",
              "    <tr>\n",
              "      <th>std</th>\n",
              "      <td>31.988837</td>\n",
              "    </tr>\n",
              "    <tr>\n",
              "      <th>min</th>\n",
              "      <td>0.000000</td>\n",
              "    </tr>\n",
              "    <tr>\n",
              "      <th>25%</th>\n",
              "      <td>77.000000</td>\n",
              "    </tr>\n",
              "    <tr>\n",
              "      <th>50%</th>\n",
              "      <td>81.000000</td>\n",
              "    </tr>\n",
              "    <tr>\n",
              "      <th>75%</th>\n",
              "      <td>86.500000</td>\n",
              "    </tr>\n",
              "    <tr>\n",
              "      <th>max</th>\n",
              "      <td>92.000000</td>\n",
              "    </tr>\n",
              "  </tbody>\n",
              "</table>\n",
              "</div><br><label><b>dtype:</b> float64</label>"
            ]
          },
          "metadata": {},
          "execution_count": 74
        }
      ]
    },
    {
      "cell_type": "markdown",
      "source": [
        "## Column selection\n",
        "-"
      ],
      "metadata": {
        "id": "Mc8eEb8D8WsC"
      }
    },
    {
      "cell_type": "code",
      "source": [],
      "metadata": {
        "id": "vpnDCjgU8LXr"
      },
      "execution_count": null,
      "outputs": []
    }
  ]
}